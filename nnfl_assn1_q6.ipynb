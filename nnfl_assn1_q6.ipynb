{
  "nbformat": 4,
  "nbformat_minor": 0,
  "metadata": {
    "colab": {
      "name": "nnfl-assn1_q6.ipynb",
      "provenance": [],
      "collapsed_sections": [],
      "mount_file_id": "1IPfiQ6xAPR0odYPy-HbV97BMBQS09CYE",
      "authorship_tag": "ABX9TyODJaHepq4pXS2ymvK5Ep20",
      "include_colab_link": true
    },
    "kernelspec": {
      "name": "python3",
      "display_name": "Python 3"
    }
  },
  "cells": [
    {
      "cell_type": "markdown",
      "metadata": {
        "id": "view-in-github",
        "colab_type": "text"
      },
      "source": [
        "<a href=\"https://colab.research.google.com/github/ishika-b/neural-networks/blob/main/nnfl_assn1_q6.ipynb\" target=\"_parent\"><img src=\"https://colab.research.google.com/assets/colab-badge.svg\" alt=\"Open In Colab\"/></a>"
      ]
    },
    {
      "cell_type": "code",
      "metadata": {
        "id": "6pZzPVIGGzFh"
      },
      "source": [
        "import pandas as pd\n",
        "import numpy as np\n",
        "import statistics \n",
        "import random\n",
        "import matplotlib.pyplot as plt"
      ],
      "execution_count": null,
      "outputs": []
    },
    {
      "cell_type": "code",
      "metadata": {
        "id": "W2r_PBNpSCDQ"
      },
      "source": [
        "#find the euclidean distance between the rows of two matrices: x and y \n",
        "def calculate_distance(start,end):\n",
        "  dist=np.sum((end-start)**2,axis=1)\n",
        "  dist=np.sqrt(dist)\n",
        "  return dist"
      ],
      "execution_count": null,
      "outputs": []
    },
    {
      "cell_type": "code",
      "metadata": {
        "id": "Q1aw8TgWy-P9"
      },
      "source": [
        "def plot(clusters):\n",
        "  cluster1 = clusters[0]\n",
        "  cluster2 = clusters[1]\n",
        "  cluster3 = clusters[2]\n",
        "\n",
        "  x1 = []\n",
        "  x2 = []\n",
        "\n",
        "  for arr in clusters[0]:\n",
        "    x1.append(arr[0])\n",
        "    x2.append(arr[1])\n",
        "  plt.scatter(x1,x2, 'o', color='black')\n",
        "\n",
        "  x1 = []\n",
        "  x2 = []\n",
        "\n",
        "  for arr in clusters[1]:\n",
        "    x1.append(arr[0])\n",
        "    x2.append(arr[1])\n",
        "  plt.scatter(x1,x2, 'o', color='blue')\n",
        "\n",
        "  x1 = []\n",
        "  x2 = []\n",
        "\n",
        "  for arr in clusters[2]:\n",
        "    x1.append(arr[0])\n",
        "    x2.append(arr[1])\n",
        "  plt.scatter(x1,x2, 'o', color='red')\n",
        "\n",
        "  plt.show()"
      ],
      "execution_count": null,
      "outputs": []
    },
    {
      "cell_type": "code",
      "metadata": {
        "id": "A3DbbTAdVDDl"
      },
      "source": [
        "def reset_clusters(data,clusters):\n",
        "  for i in range(11): # change this to a while loop with distance breaking condition\n",
        "    k=len(clusters) #k = 3 (number of clusters)\n",
        "    k_means=[] \n",
        "\n",
        "    truth=[True]\n",
        "\n",
        "    for i in range(k):\n",
        "      k_means.append(np.mean(clusters[i],axis=0,keepdims=True)) #find the centroid(mean) of the cluster\n",
        "\n",
        "      new_clusters=[]\n",
        "      for i in range(k):\n",
        "        new_clusters.append([])\n",
        "\n",
        "      distances = []\n",
        "      for mean in k_means:\n",
        "        distances.append(calculate_distance(mean,data)) #calculate distance of data from each mean\n",
        "      nearest_mean=np.argmin(np.array(distances),axis=0) #choose the min distance wala cluster\n",
        "\n",
        "      for i in range(nearest_mean.shape[0]):\n",
        "        new_clusters[nearest_mean[i]].append(data[i])\n",
        "\n",
        "    return new_clusters,k_means"
      ],
      "execution_count": null,
      "outputs": []
    },
    {
      "cell_type": "code",
      "metadata": {
        "id": "Xaju-sGCV-7-"
      },
      "source": [
        "def k_means_cluster(k,data):\n",
        "  np.random.shuffle(data) #rowwise rearrangement\n",
        "  clusters_init = np.array_split(data,k,axis=0) # breaks the array IN ORDER vertically into 3 clusters\n",
        "\n",
        "  clusters, centroids= reset_clusters(data,clusters_init)\n",
        "  #clusters is a 3x4 array with the rows depicting the classes and the each row has arrays of dimension 4 with the 4 features.\n",
        "\n",
        "  plot(clusters)"
      ],
      "execution_count": null,
      "outputs": []
    },
    {
      "cell_type": "code",
      "metadata": {
        "id": "266VHVKJ72Jd"
      },
      "source": [
        "def plot_clusters(Centroids,list0,list1,list2):\n",
        "  fig,axs = plt.subplots(3,3,figsize=(15,9))\n",
        "\n",
        "  for i in range(len(list0)):\n",
        "    axs[0][0].scatter(list0[i][0],list0[i][1],c = \"blue\")\n",
        "  for i in range(len(list1)):\n",
        "    axs[0][0].scatter(list1[i][0],list1[i][1],c = \"green\")\n",
        "  for i in range(len(list2)):\n",
        "    axs[0][0].scatter(list2[i][0],list2[i][1],c = \"red\")\n",
        "\n",
        "\n",
        "  for i in range(len(list0)):\n",
        "    axs[0][1].scatter(list0[i][1],list0[i][2],c = \"blue\")\n",
        "  for i in range(len(list1)):\n",
        "    axs[0][1].scatter(list1[i][1],list1[i][2],c = \"green\")\n",
        "  for i in range(len(list2)):\n",
        "    axs[0][1].scatter(list2[i][1],list2[i][2],c = \"red\")\n",
        "\n",
        "  \n",
        "  for i in range(len(list0)):\n",
        "    axs[0][2].scatter(list0[i][1],list0[i][3],c = \"blue\")\n",
        "  for i in range(len(list1)):\n",
        "    axs[0][2].scatter(list1[i][1],list1[i][3],c = \"green\")\n",
        "  for i in range(len(list2)):\n",
        "    axs[0][2].scatter(list2[i][1],list2[i][3],c = \"red\")\n",
        "\n",
        "  for i in range(len(list0)):\n",
        "    axs[1][1].scatter(list0[i][1],list0[i][0],c = \"blue\")\n",
        "  for i in range(len(list1)):\n",
        "    axs[1][1].scatter(list1[i][1],list1[i][0],c = \"green\")\n",
        "  for i in range(len(list2)):\n",
        "    axs[1][1].scatter(list2[i][1],list2[i][0],c = \"red\")\n",
        "\n",
        "\n",
        "  for i in range(len(list0)):\n",
        "    axs[1][0].scatter(list0[i][2],list0[i][3],c = \"blue\")\n",
        "  for i in range(len(list1)):\n",
        "    axs[1][0].scatter(list1[i][2],list1[i][3],c = \"green\")\n",
        "  for i in range(len(list2)):\n",
        "    axs[1][0].scatter(list2[i][2],list2[i][3],c = \"red\")\n",
        "\n",
        "\n",
        "  \n",
        "  for i in range(len(list0)):\n",
        "    axs[1][2].scatter(list0[i][2],list0[i][0],c = \"blue\")\n",
        "  for i in range(len(list1)):\n",
        "    axs[1][2].scatter(list1[i][2],list1[i][0],c = \"green\")\n",
        "  for i in range(len(list2)):\n",
        "    axs[1][2].scatter(list2[i][2],list2[i][0],c = \"red\")\n",
        "\n",
        "\n",
        "  for i in range(len(list0)):\n",
        "    axs[2][0].scatter(list0[i][0],list0[i][3],c = \"blue\")\n",
        "  for i in range(len(list1)):\n",
        "    axs[2][0].scatter(list1[i][0],list1[i][3],c = \"green\")\n",
        "  for i in range(len(list2)):\n",
        "    axs[2][0].scatter(list2[i][0],list2[i][3],c = \"red\")\n",
        "\n",
        "\n",
        "  for i in range(len(list0)):\n",
        "    axs[2][1].scatter(list0[i][0],list0[i][2],c = \"blue\")\n",
        "  for i in range(len(list1)):\n",
        "    axs[2][1].scatter(list1[i][0],list1[i][2],c = \"green\")\n",
        "  for i in range(len(list2)):\n",
        "    axs[2][1].scatter(list2[i][0],list2[i][2],c = \"red\")\n",
        "\n",
        "  \n",
        "  for i in range(len(list0)):\n",
        "    axs[2][2].scatter(list0[i][1],list0[i][0],c = \"blue\")\n",
        "  for i in range(len(list1)):\n",
        "    axs[2][2].scatter(list1[i][1],list1[i][0],c = \"green\")\n",
        "  for i in range(len(list2)):\n",
        "    axs[2][2].scatter(list2[i][1],list2[i][0],c = \"red\")\n",
        "\n",
        "  plt.show()\n"
      ],
      "execution_count": null,
      "outputs": []
    },
    {
      "cell_type": "code",
      "metadata": {
        "id": "b2RMsjo3HDb1",
        "colab": {
          "base_uri": "https://localhost:8080/",
          "height": 815
        },
        "outputId": "8ac83b29-3641-4d89-95e2-8c9f553b3bc2"
      },
      "source": [
        "if __name__ == '__main__':\n",
        "  np.random.seed()\n",
        "  ex = pd.read_excel(\"/content/drive/My Drive/nnfl/nnfl/data2.xlsx\", sheet_name='Sheet1',header=None)\n",
        "  ex1 = ex.sample(frac=1).reset_index(drop=True)\n",
        "  x = np.zeros((150,4))\n",
        "  for i in range (150):\n",
        "    x[i][0] = ex1[0][i]\n",
        "    x[i][1] = ex1[1][i]\n",
        "    x[i][2] = ex1[2][i]\n",
        "    x[i][3] = ex1[3][i]\n",
        "  for i in range(4):\n",
        "    mean = np.mean(x[:,i])\n",
        "    std = np.std(x[:,i])\n",
        "    x[:,i] = [(a-mean)/std for a in x[:,i]]\n",
        "  x_train = x[0:105][:]\n",
        "  x_test = x[105:150][:]\n",
        " \n",
        "  m=x_train.shape[0] #number of training examples\n",
        "  n=x_train.shape[1] #number of features. \n",
        "  n_iter=10\n",
        "  #a = np.array([2,1,3])\n",
        "  cluster_avg=np.zeros((n_iter,4))\n",
        "  K=3 #No. of clusters\n",
        "  Centroids = np.random.randn(3,n)\n",
        "  list0=[]\n",
        "  list1=[]\n",
        "  list2=[]\n",
        "  for l in range(n_iter):\n",
        "    for i in range(105):\n",
        "      Dist = np.zeros(3)\n",
        "      for j in range(3):\n",
        "        Dist[j] = (np.sum((x_train[i,:] - Centroids[j,:])**2))\n",
        "      min=Dist[0]\n",
        "      index_min = 0\n",
        "      for k in range(3):\n",
        "        if Dist[j]<min:\n",
        "          index_min=j\n",
        "      if index_min==0:\n",
        "        list0.append(x_train[i,:].tolist())\n",
        "      elif index_min==1:\n",
        "        list1.append(x_train[i,:].tolist())\n",
        "      else:\n",
        "        list2.append(x_train[i,:].tolist())\n",
        "    mean1=[0, 0, 0, 0]\n",
        "    for i in range(len(list0)):\n",
        "      mean1[0]=mean1[0]+list0[i][0]\n",
        "      mean1[1]=mean1[1]+list0[i][1]\n",
        "      mean1[2]=mean1[2]+list0[i][2]\n",
        "      mean1[3]=mean1[3]+list0[i][3]\n",
        "      cluster_avg[l][0]=cluster_avg[l][0]+(np.sum((list0[i] - Centroids[0,:])**2))\n",
        "    if len(list0)!=0:\n",
        "      Centroids[0,:] = [x / len(list0) for x in mean1]\n",
        "    mean1=[0, 0, 0, 0]\n",
        "    for i in range(len(list1)):\n",
        "      mean1[0]=mean1[0]+list1[i][0]\n",
        "      mean1[1]=mean1[1]+list1[i][1]\n",
        "      mean1[2]=mean1[2]+list1[i][2]\n",
        "      mean1[3]=mean1[3]+list1[i][3]\n",
        "      cluster_avg[l][1]=cluster_avg[l][1]+(np.sum((list1[i] - Centroids[1,:])**2))\n",
        "    if len(list1)!=0:\n",
        "      Centroids[1,:] = [x / len(list1) for x in mean1]\n",
        "    mean1=[0, 0, 0, 0]\n",
        "    for i in range(len(list2)):\n",
        "      mean1[0]=mean1[0]+list2[i][0]\n",
        "      mean1[1]=mean1[1]+list2[i][1]\n",
        "      mean1[2]=mean1[2]+list2[i][2]\n",
        "      mean1[3]=mean1[3]+list2[i][3]\n",
        "      cluster_avg[l][2]=cluster_avg[l][2]+(np.sum((list2[i] - Centroids[2,:])**2))\n",
        "    if len(list2)!=0:\n",
        "      Centroids[2,:] = [x / len(list2) for x in mean1]\n",
        "    cluster_avg[l][3]=l+1\n",
        "    if l!=n_iter-1:\n",
        "      list0=[]\n",
        "      list1=[]\n",
        "      list2=[]\n",
        " \n",
        "  #print(cluster_avg)\n",
        "  x = cluster_avg[:,3]\n",
        "  y = (cluster_avg[:,0]+cluster_avg[:,1]+cluster_avg[:,2])\n",
        "  plt.plot(x, y) \n",
        "  plt.xlabel('Iterations') \n",
        "  plt.ylabel('Cost') \n",
        "  plt.title('Cost vs iterations') \n",
        "  plt.show()\n",
        "  list0=[]\n",
        "  list1=[]\n",
        "  list2=[]\n",
        "  for i in range(45):\n",
        "    Dist = np.zeros(3)\n",
        "    for j in range(3):\n",
        "      Dist[j] = (np.sum((x_test[i,:] - Centroids[j,:])**2))\n",
        "    min=Dist[0]\n",
        "    index_min = 0\n",
        "    for k in range(3):\n",
        "      if Dist[j]<min:\n",
        "        index_min=j\n",
        "    if index_min==0:\n",
        "      list0.append(x_test[i,:].tolist())\n",
        "    elif index_min==1:\n",
        "      list1.append(x_test[i,:].tolist())\n",
        "    else:\n",
        "      list2.append(x_test[i,:].tolist())\n",
        " \n",
        "  plot_clusters(Centroids,list0,list1,list2)"
      ],
      "execution_count": null,
      "outputs": [
        {
          "output_type": "display_data",
          "data": {
            "image/png": "[encoded data removed]",
            "text/plain": [
              "<Figure size 432x288 with 1 Axes>"
            ]
          },
          "metadata": {
            "tags": [],
            "needs_background": "light"
          }
        },
        {
          "output_type": "display_data",
          "data": {
            "image/png": "[encoded data removed]",
            "text/plain": [
              "<Figure size 1080x648 with 9 Axes>"
            ]
          },
          "metadata": {
            "tags": [],
            "needs_background": "light"
          }
        }
      ]
    }
  ]
}