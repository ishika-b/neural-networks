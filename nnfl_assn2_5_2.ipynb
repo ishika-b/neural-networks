{
  "nbformat": 4,
  "nbformat_minor": 0,
  "metadata": {
    "colab": {
      "name": "nnfl_assn2_5_2.ipynb",
      "provenance": [],
      "include_colab_link": true
    },
    "kernelspec": {
      "display_name": "Python 3",
      "name": "python3"
    }
  },
  "cells": [
    {
      "cell_type": "markdown",
      "metadata": {
        "id": "view-in-github",
        "colab_type": "text"
      },
      "source": [
        "<a href=\"https://colab.research.google.com/github/ishika-b/neural-networks/blob/main/nnfl_assn2_5_2.ipynb\" target=\"_parent\"><img src=\"https://colab.research.google.com/assets/colab-badge.svg\" alt=\"Open In Colab\"/></a>"
      ]
    },
    {
      "cell_type": "code",
      "metadata": {
        "id": "SzC75a6BamWF"
      },
      "source": [
        "import numpy as np\n",
        "from sklearn.metrics import accuracy_score\n",
        "import scipy.io\n",
        "from sklearn.preprocessing import StandardScaler\n",
        "from sklearn import  preprocessing\n",
        "normalizer = StandardScaler()"
      ],
      "execution_count": null,
      "outputs": []
    },
    {
      "cell_type": "code",
      "metadata": {
        "id": "RxOq7CigWll8"
      },
      "source": [
        "def sigmoid(a):\n",
        "    return 1/(1 + np.exp(-a))\n",
        "\n",
        "def relu(z):\n",
        "  return np.maximum(z,1e-5)\n",
        "\n",
        "def feed_forward(input, weights, bias):\n",
        "   z = np.dot(weights, input) + bias\n",
        "   a = sigmoid(z)\n",
        "   return a\n",
        "\n",
        "def feed_forward_relu(input, weights, bias):\n",
        "   z = np.dot(weights, input) + bias\n",
        "   a = sigmoid(z)\n",
        "   return a\n",
        "\n",
        "def error_y(actual, predicted):\n",
        "    return np.subtract(predicted, actual)\n",
        "\n",
        "def y_z(predicted):\n",
        "    return predicted * (1 - predicted)\n",
        "\n",
        "def error_deriv(actual,predicted):\n",
        "    return np.multiply(np.subtract(predicted, actual), predicted * (1 - predicted))\n"
      ],
      "execution_count": null,
      "outputs": []
    },
    {
      "cell_type": "code",
      "metadata": {
        "id": "NPiBp7lPVmzF"
      },
      "source": [
        "   def pretrain(x_train, y_train, hidden_size):\n",
        "    alpha = 0.02\n",
        "    input_size = x_train.shape[0] \n",
        "    output_size = x_train.shape[0]\n",
        "    #hidden layer\n",
        "    b3 = np.zeros((hidden_size, 1))\n",
        "    w3 = np.random.rand(hidden_size, input_size)*0.001\n",
        "    #output layer \n",
        "    b4 = np.zeros((output_size, 1))\n",
        "    w4 = np.random.rand(output_size, hidden_size)*0.001\n",
        "\n",
        "    for i in range(2000):\n",
        "      #training function with backprop\n",
        "      dJw4 = 0\n",
        "      dJb4 = 0\n",
        "      dJw3 = 0\n",
        "      dJb3 = 0\n",
        "\n",
        "      a3 = feed_forward(x_train, w3, b3) #(50,1503)\n",
        "      a4 = feed_forward(a3, w4, b4) #(72,1503)\n",
        "\n",
        "      dz4 = (a4-y_train)*(a4)*(1-a4) #72,1503 \n",
        "      dJw4 = np.dot(dz4,a3.T) #(72,50)\n",
        "      dJb4 = np.sum(dz4, axis=1, keepdims=True)\n",
        "      da3 = np.dot(w4.T,dz4) #(72,50)T . (72,1503) = (50,1503)\n",
        "      dz3 = da3*a3*(1-a3) #(50,1503)\n",
        "      dJw3 = np.dot(dz3,x_train.T) #(50,1503)(72,1503) = (50,72)\n",
        "      dJb3 = np.sum(dz3,axis=1, keepdims=True) \n",
        "\n",
        "      w3 = w3 - (1/X_train.shape[1])*alpha*dJw3\n",
        "      w4 = w4 - (1/X_train.shape[1])*alpha*dJw4\n",
        "      b3 = b3 - (1/X_train.shape[1])*alpha*dJb3\n",
        "      b4 = b4 - (1/X_train.shape[1])*alpha*dJb4\n",
        "      \n",
        "      error = y_train - a4 # y_train: (72, 1503) a4:(72, 1503)\n",
        "      error = np.square(error)\n",
        "      error = np.sum(error)\n",
        "      error = (1/y_train.shape[1])*np.sqrt(error)\n",
        "      #print(error)\n",
        "    return w3, b3, a3"
      ],
      "execution_count": null,
      "outputs": []
    },
    {
      "cell_type": "code",
      "metadata": {
        "id": "Hc3T4ylcax4p"
      },
      "source": [
        "if __name__ == '__main__':\n",
        "  np.random.seed(0)\n",
        "\n",
        "  mat = scipy.io.loadmat('/content/drive/My Drive/nnfl/nnfl2/data5.mat')\n",
        "\n",
        "  #preparing features and labels as python arrays\n",
        "  X = mat['x'][:,[i for i in range(72)]]\n",
        "  y = mat['x'][:,72]\n",
        "\n",
        "  for i in range(X.shape[1]):\n",
        "    mean = np.mean(X[:,i]) \n",
        "    std = np.std(X[:,i])\n",
        "    X[:,i] = [(a-mean)/std for a in X[:,i]]\n",
        "\n",
        "  from sklearn.model_selection import train_test_split\n",
        "  X_train, X_test, y_train, y_test = train_test_split(X, y, test_size=0.2, random_state=1)\n",
        "  X_train, Z_val, y_train, y_val = train_test_split(X_train, y_train, test_size=1/8, random_state=1)\n",
        "\n",
        "\n",
        "  #print(X)\n",
        "  #print(y)\n",
        "\n",
        "  h1_size = 50\n",
        "  h2_size = 30\n",
        "  h3_size = 10\n",
        "\n",
        "  weights_1, bias_1, H1 = pretrain(X_train.T, X_train.T, h1_size)\n",
        "  weights_2, bias_2, H2 = pretrain(H1, H1, h2_size)\n",
        "  weights_3, bias_3, H3 = pretrain(H2, H2, h3_size)\n",
        "\n",
        "  #classification layer\n",
        "  #output_weights, output_bias, output = pretrain(H3, H3, 1)\n"
      ],
      "execution_count": null,
      "outputs": []
    },
    {
      "cell_type": "code",
      "metadata": {
        "colab": {
          "base_uri": "https://localhost:8080/"
        },
        "id": "0BekVyKHzE1D",
        "outputId": "7309404b-0477-47f6-a8f1-acc9b92d1e6f"
      },
      "source": [
        "from google.colab import drive\n",
        "drive.mount('/content/drive')"
      ],
      "execution_count": null,
      "outputs": [
        {
          "output_type": "stream",
          "text": [
            "Drive already mounted at /content/drive; to attempt to forcibly remount, call drive.mount(\"/content/drive\", force_remount=True).\n"
          ],
          "name": "stdout"
        }
      ]
    },
    {
      "cell_type": "code",
      "metadata": {
        "id": "OgofuhXIh0mh"
      },
      "source": [
        "  w1 = weights_1\n",
        "  b1 = bias_1\n",
        "  w2 = weights_2\n",
        "  b2 = bias_2\n",
        "  w3 = weights_3\n",
        "  b3 = bias_3\n",
        "\n",
        "  alpha = 0.9\n",
        "  \n",
        "  b4 = np.zeros((1, 1)) #(1,1)\n",
        "  w4 = np.random.rand(1, h3_size)*0.01 #(1,10)\n",
        "\n",
        "  costs_tr = []\n",
        "  #FINETUNE\n",
        "  for i in range(8000):\n",
        "    cost = 0\n",
        "    dJw1=0\n",
        "    dJw2=0\n",
        "    dJw3=0\n",
        "    dJw4=0\n",
        "    dJb1=0\n",
        "    dJb2=0\n",
        "    dJb3=0\n",
        "    dJb4=0\n",
        "    for j in range(X_train.shape[0]):\n",
        "      #FORWARDPROP\n",
        "      x_ = X_train[j,:].reshape(72,1)\n",
        "      z1 = np.dot(w1,x_)+b1\n",
        "      a1 = sigmoid(z1)\n",
        "      z2 = np.dot(w2,a1)+b2\n",
        "      a2 = sigmoid(z2)\n",
        "      z3 = np.dot(w3,a2)+b3\n",
        "      a3 = sigmoid(z3)\n",
        "      z4 = np.dot(w4,a3)+b4\n",
        "      a4 = sigmoid(z4)\n",
        "      cost += np.squeeze((y_train[j]-a4)**2)\n",
        "      #BACKPROP \n",
        "      dz4 = (a4)*(1-a4.T)*(a4-y_train[j])\n",
        "      dJw4 += np.dot(dz4,a3.T)\n",
        "      dJb4 += dz4\n",
        "      da3 = np.dot(w4.T,dz4)\n",
        "      dz3 = np.multiply(da3,(a3*(1-a3)))\n",
        "      dJw3 += np.dot(dz3,a2.T)\n",
        "      dJb3 += dz3\n",
        "      da2 = np.dot(w3.T,dz3)\n",
        "      dz2 = np.multiply(da2,(a2*(1-a2)))\n",
        "      dJw2 += np.dot(dz2,a1.T)\n",
        "      dJb2 += dz2\n",
        "      da1 = np.dot(w2.T,dz2)\n",
        "      dz1 = np.multiply(da1,(a1*(1-a1)))\n",
        "      dJw1 += np.dot(dz1,x_.T)\n",
        "      dJb1 += dz1\n",
        "    #print(i,cost/X_train.shape[0])\n",
        "    #WEIGHT UPDATE\n",
        "    w1 = w1 - (1/X_train.shape[0])*alpha*dJw1\n",
        "    w2 = w2 - (1/X_train.shape[0])*alpha*dJw2\n",
        "    w3 = w3 - (1/X_train.shape[0])*alpha*dJw3\n",
        "    w4 = w4 - (1/X_train.shape[0])*alpha*dJw4\n",
        "    b1 = b1 - (1/X_train.shape[0])*alpha*dJb1\n",
        "    b2 = b2 - (1/X_train.shape[0])*alpha*dJb2\n",
        "    b3 = b3 - (1/X_train.shape[0])*alpha*dJb3\n",
        "    b4 = b4 - (1/X_train.shape[0])*alpha*dJb4\n",
        "    costs_tr.append(cost)"
      ],
      "execution_count": null,
      "outputs": []
    },
    {
      "cell_type": "code",
      "metadata": {
        "id": "e95jNmRpgUqB"
      },
      "source": [
        "  w1_val = weights_1\n",
        "  b1_val = bias_1\n",
        "  w2_val = weights_2\n",
        "  b2_val = bias_2\n",
        "  w3_val = weights_3\n",
        "  b3_val = bias_3\n",
        "\n",
        "  alpha = 0.9\n",
        "  \n",
        "  b4_val = np.zeros((1, 1)) #(1,1)\n",
        "  w4_val = np.random.rand(1, h3_size)*0.01 #(1,10)\n",
        "\n",
        "  costs_val = []\n",
        "  #FINETUNE\n",
        "  for i in range(8000):\n",
        "    cost = 0\n",
        "    dJw1=0\n",
        "    dJw2=0\n",
        "    dJw3=0\n",
        "    dJw4=0\n",
        "    dJb1=0\n",
        "    dJb2=0\n",
        "    dJb3=0\n",
        "    dJb4=0\n",
        "    for j in range(Z_val.shape[0]): #X_val is loaded as Z_val\n",
        "      #FORWARDPROP\n",
        "      x_ = Z_val[j,:].reshape(72,1)\n",
        "      z1 = np.dot(w1_val,x_)+b1_val\n",
        "      a1 = sigmoid(z1)\n",
        "      z2 = np.dot(w2_val,a1)+b2_val\n",
        "      a2 = sigmoid(z2)\n",
        "      z3 = np.dot(w3_val,a2)+b3_val\n",
        "      a3 = sigmoid(z3)\n",
        "      z4 = np.dot(w4_val,a3)+b4_val\n",
        "      a4 = sigmoid(z4)\n",
        "      cost += np.squeeze((y_val[j]-a4)**2)\n",
        "      #BACKPROP \n",
        "      dz4 = (a4)*(1-a4.T)*(a4-y_val[j])\n",
        "      dJw4 += np.dot(dz4,a3.T)\n",
        "      dJb4 += dz4\n",
        "      da3 = np.dot(w4_val.T,dz4)\n",
        "      dz3 = np.multiply(da3,(a3*(1-a3)))\n",
        "      dJw3 += np.dot(dz3,a2.T)\n",
        "      dJb3 += dz3\n",
        "      da2 = np.dot(w3_val.T,dz3)\n",
        "      dz2 = np.multiply(da2,(a2*(1-a2)))\n",
        "      dJw2 += np.dot(dz2,a1.T)\n",
        "      dJb2 += dz2\n",
        "      da1 = np.dot(w2_val.T,dz2)\n",
        "      dz1 = np.multiply(da1,(a1*(1-a1)))\n",
        "      dJw1 += np.dot(dz1,x_.T)\n",
        "      dJb1 += dz1\n",
        "    #print(i,cost/X_train.shape[0])\n",
        "    #WEIGHT UPDATE\n",
        "    w1_val = w1_val - (1/Z_val.shape[0])*alpha*dJw1\n",
        "    w2_val = w2_val - (1/Z_val.shape[0])*alpha*dJw2\n",
        "    w3_val = w3_val - (1/Z_val.shape[0])*alpha*dJw3\n",
        "    w4_val = w4_val - (1/Z_val.shape[0])*alpha*dJw4\n",
        "    b1_val = b1_val - (1/Z_val.shape[0])*alpha*dJb1\n",
        "    b2_val = b2_val - (1/Z_val.shape[0])*alpha*dJb2\n",
        "    b3_val = b3_val - (1/Z_val.shape[0])*alpha*dJb3\n",
        "    b4_val = b4_val - (1/Z_val.shape[0])*alpha*dJb4\n",
        "    costs_val.append(cost)"
      ],
      "execution_count": null,
      "outputs": []
    },
    {
      "cell_type": "code",
      "metadata": {
        "colab": {
          "base_uri": "https://localhost:8080/",
          "height": 330
        },
        "id": "Dt7mbrMnh_HM",
        "outputId": "2a9135bc-60d3-41d9-f2e0-8b85f06957e3"
      },
      "source": [
        "  costs_val = (1/215)*np.array(costs_val)\n",
        "  costs_tr = (1/1503)*np.array(costs_tr)\n",
        "\n",
        "  import matplotlib.pyplot as plt\n",
        "  fig = plt.figure()\n",
        "  plt.xlabel('Number of Iterations', fontsize=14)\n",
        "  plt.plot(range(0,8000),(costs_val), label = 'Validation Set Cost')\n",
        "  plt.plot(range(0,8000),(costs_tr), label = 'Training Set Cost')\n",
        "  plt.legend()\n",
        "\n",
        "  print(\"final train cost:\", costs_tr[-1])\n",
        "  print(\"final validation cost:\",costs_val[-1])"
      ],
      "execution_count": null,
      "outputs": [
        {
          "output_type": "stream",
          "text": [
            "final train cost: 4.5943820126031375e-10\n",
            "final validation cost: 1.0202225228998686e-07\n"
          ],
          "name": "stdout"
        },
        {
          "output_type": "display_data",
          "data": {
            "image/png": "[encoded data removed]",
            "text/plain": [
              "<Figure size 432x288 with 1 Axes>"
            ]
          },
          "metadata": {
            "tags": [],
            "needs_background": "light"
          }
        }
      ]
    },
    {
      "cell_type": "code",
      "metadata": {
        "colab": {
          "base_uri": "https://localhost:8080/"
        },
        "id": "tHmZ72zYosC-",
        "outputId": "bee3da0d-c068-4d90-907c-33b33cef0c23"
      },
      "source": [
        "  out_1 = feed_forward(X_test.T, w1, b1)\n",
        "  out_2 = feed_forward(out_1, w2, b2)\n",
        "  out_3 = feed_forward(out_2, w3, b3)\n",
        "  \n",
        "  y_pred = np.dot(out_3.T, w4.T) + b4\n",
        "  preprocessing.minmax_scale(y_pred, feature_range=(0, 1), copy=False)\n",
        "  #print(y_pred)\n",
        "\n",
        "  preds = []\n",
        "  for i in range(len(y_test)):\n",
        "      if (y_pred[i] < 0.5):\n",
        "          preds.append(0)\n",
        "      else:\n",
        "          preds.append(1)\n",
        "  print(\"Accuracy ->\",accuracy_score(y_test, preds))"
      ],
      "execution_count": null,
      "outputs": [
        {
          "output_type": "stream",
          "text": [
            "Accuracy -> 0.9232558139534883\n"
          ],
          "name": "stdout"
        }
      ]
    },
    {
      "cell_type": "code",
      "metadata": {
        "colab": {
          "base_uri": "https://localhost:8080/"
        },
        "id": "LEu_hi2u8Dfr",
        "outputId": "eb7fa5ab-251f-4d65-fdf9-e09fefaf70b8"
      },
      "source": [
        "from sklearn.metrics import confusion_matrix\n",
        "cm = confusion_matrix(y_test, preds)\n",
        "print(\"class 0 accuracy:\", cm[0,0]/(cm[0,0]+cm[0,1]))\n",
        "print(\"class 1 accuracy:\",cm[1,1]/(cm[1,1]+cm[1,0]))"
      ],
      "execution_count": null,
      "outputs": [
        {
          "output_type": "stream",
          "text": [
            "class 0 accuracy: 0.8962264150943396\n",
            "class 1 accuracy: 0.9495412844036697\n"
          ],
          "name": "stdout"
        }
      ]
    }
  ]
}