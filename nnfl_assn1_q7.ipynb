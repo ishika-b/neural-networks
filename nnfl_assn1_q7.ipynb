{
  "nbformat": 4,
  "nbformat_minor": 0,
  "metadata": {
    "colab": {
      "name": "nnfl_assn1_q7.ipynb",
      "provenance": [],
      "mount_file_id": "1J29WLuj5TL0cC49W9w12ejaWQTidtNL9",
      "authorship_tag": "ABX9TyM8xV6qaPswNwnUW5yoqAuv",
      "include_colab_link": true
    },
    "kernelspec": {
      "name": "python3",
      "display_name": "Python 3"
    }
  },
  "cells": [
    {
      "cell_type": "markdown",
      "metadata": {
        "id": "view-in-github",
        "colab_type": "text"
      },
      "source": [
        "<a href=\"https://colab.research.google.com/github/ishika-b/neural-networks/blob/main/nnfl_assn1_q7.ipynb\" target=\"_parent\"><img src=\"https://colab.research.google.com/assets/colab-badge.svg\" alt=\"Open In Colab\"/></a>"
      ]
    },
    {
      "cell_type": "code",
      "metadata": {
        "id": "ER01c_HG8VAe"
      },
      "source": [
        "import numpy as np\n",
        "import pandas as pd\n",
        "import matplotlib.pyplot as plt\n",
        "from mpl_toolkits import mplot3d"
      ],
      "execution_count": null,
      "outputs": []
    },
    {
      "cell_type": "code",
      "metadata": {
        "id": "gZlotNgPEhVb"
      },
      "source": [
        "def sigmoid(X, weight):\n",
        "    z = np.dot(X, weight)\n",
        "    return 1 / (1 + np.exp(-z))"
      ],
      "execution_count": null,
      "outputs": []
    },
    {
      "cell_type": "code",
      "metadata": {
        "id": "Dy9SDU1kEj8_"
      },
      "source": [
        "def cost(h, y):\n",
        "    return (-y * np.log(h) - (1 - y) * np.log(1 - h)).mean()"
      ],
      "execution_count": null,
      "outputs": []
    },
    {
      "cell_type": "code",
      "metadata": {
        "id": "D1p34wh3Ic0h"
      },
      "source": [
        "def predict_prob(X, theta):\n",
        "    final_pred = sigmoid(X,theta)\n",
        "    return final_pred.round()"
      ],
      "execution_count": null,
      "outputs": []
    },
    {
      "cell_type": "code",
      "metadata": {
        "id": "JvzHhb0XIdgz"
      },
      "source": [
        "def predict_test(X, theta):\n",
        "    final_pred = sigmoid(X,theta)\n",
        "    return (final_pred.round()+1)"
      ],
      "execution_count": null,
      "outputs": []
    },
    {
      "cell_type": "code",
      "metadata": {
        "id": "pIADDe6kjA3s"
      },
      "source": [
        "def gradient_descent(X, y,iter,lr):   \n",
        "  \n",
        "    # weights initialization\n",
        "    theta = np.zeros((5,1))\n",
        "    descent = np.zeros((iter,2))\n",
        "        \n",
        "    for i in range(iter):\n",
        "        z = np.dot(X, theta)\n",
        "        h = sigmoid(X, theta)\n",
        "        gradient = np.dot(X.T, (h - y)) / 60\n",
        "        \n",
        "        theta = theta - lr * gradient\n",
        "            \n",
        "        z = np.dot(X,theta)\n",
        "        h = sigmoid(X,theta)\n",
        "        loss = cost(h, y)\n",
        "                \n",
        "        if i % 1 == 0:\n",
        "            descent[i][0] = i+1\n",
        "            descent[i][1] = loss\n",
        "    return descent,theta"
      ],
      "execution_count": null,
      "outputs": []
    },
    {
      "cell_type": "code",
      "metadata": {
        "id": "PH2DKr5i86hj",
        "colab": {
          "base_uri": "https://localhost:8080/",
          "height": 370
        },
        "outputId": "b129cc67-444d-4e81-c447-c61f8e7f73d1"
      },
      "source": [
        "if __name__ == '__main__':\n",
        "  np.random.seed()\n",
        "  ex = pd.read_excel('/content/drive/My Drive/nnfl/nnfl/data3.xlsx', sheet_name='Sheet1',header=None)\n",
        "  ex1 = ex.sample(frac=1).reset_index(drop=True)\n",
        "  #print(ex1)\n",
        "  x = np.zeros((100,4))\n",
        "  y = np.zeros((100,1))\n",
        " \n",
        "  for i in range (100):\n",
        "    x[i][0] = ex1[0][i]\n",
        "    x[i][1] = ex1[1][i]\n",
        "    x[i][2] = ex1[2][i]\n",
        "    x[i][3] = ex1[3][i]\n",
        "    y[i][0] = ex1[4][i]\n",
        "  for i in range(4):\n",
        "    mean = np.mean(x[:,i])\n",
        "    std = np.std(x[:,i])\n",
        "    x[:,i] = [(a-mean)/std for a in x[:,i]]\n",
        "\n",
        "  x_train = x[0:60][:]\n",
        "  x_test = x[60:100][:]\n",
        "  y_train = y[0:60][:]\n",
        "  y_test = y[60:100][:]\n",
        "\n",
        "  x_train = np.insert(x_train,0,np.ones(60),axis=1)\n",
        "  x_test = np.insert(x_test,0,np.ones(40),axis=1)\n",
        "  iter = 1000\n",
        "  alpha = 0.04\n",
        "  dict_costs,w = gradient_descent(x_train,y_train,iter,alpha)\n",
        "  a = dict_costs[:,0]\n",
        "  b = dict_costs[:,1]  \n",
        "  plt.plot(a, b) \n",
        "  plt.title('cost vs iterations') \n",
        "  plt.show() \n",
        "  predictions = predict_prob(x_test,w)\n",
        "  correct_arr = [1 if ((a == 1 and b == 2) or (a == 0 and b == 1)) else 0 for (a, b) in zip(predictions, y_test)] \n",
        "  sensitivity_arr = []\n",
        "  specificity_arr = []\n",
        "  for i in range(40):\n",
        "    if (predictions[i] == 1 and y_test[i]==2):\n",
        "      sensitivity_arr.append(1)\n",
        "    elif (predictions[i]==0 and y_test[i]==2):\n",
        "      sensitivity_arr.append(0)\n",
        "    if (predictions[i] == 0 and y_test[i]==1):\n",
        "      specificity_arr.append(1)\n",
        "    elif (predictions[i]==1 and y_test[i]==1):\n",
        "      specificity_arr.append(0)\n",
        "    \n",
        "  accuracy = sum(correct_arr)/len(correct_arr) \n",
        "  sensitivity = sum(sensitivity_arr)/len(sensitivity_arr)\n",
        "  specificity = sum(specificity_arr)/len(specificity_arr)\n",
        "  print('accuracy = {:0.2f}%'.format(accuracy*100))\n",
        "  print('sensitivity = {:0.2f}%'.format(sensitivity*100))\n",
        "  print('specificity = {:0.2f}%'.format(specificity*100))"
      ],
      "execution_count": null,
      "outputs": [
        {
          "output_type": "stream",
          "text": [
            "/usr/local/lib/python3.6/dist-packages/ipykernel_launcher.py:2: RuntimeWarning: divide by zero encountered in log\n",
            "  \n"
          ],
          "name": "stderr"
        },
        {
          "output_type": "display_data",
          "data": {
            "image/png": "[encoded data removed]",
            "text/plain": [
              "<Figure size 432x288 with 1 Axes>"
            ]
          },
          "metadata": {
            "tags": [],
            "needs_background": "light"
          }
        },
        {
          "output_type": "stream",
          "text": [
            "accuracy = 52.50%\n",
            "sensitivity = 100.00%\n",
            "specificity = 5.00%\n"
          ],
          "name": "stdout"
        }
      ]
    }
  ]
}