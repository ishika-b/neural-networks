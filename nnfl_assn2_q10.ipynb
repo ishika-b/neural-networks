{
  "nbformat": 4,
  "nbformat_minor": 0,
  "metadata": {
    "accelerator": "GPU",
    "colab": {
      "name": "nnfl_assn2_q10.ipynb",
      "provenance": [],
      "mount_file_id": "154SWePx4Tx8lGSZdy8vUvF1_QLi-s08k",
      "authorship_tag": "ABX9TyOdmAUCFVgPpkSFNYxFYXAb",
      "include_colab_link": true
    },
    "kernelspec": {
      "display_name": "Python 3",
      "name": "python3"
    }
  },
  "cells": [
    {
      "cell_type": "markdown",
      "metadata": {
        "id": "view-in-github",
        "colab_type": "text"
      },
      "source": [
        "<a href=\"https://colab.research.google.com/github/ishika-b/neural-networks/blob/main/nnfl_assn2_q10.ipynb\" target=\"_parent\"><img src=\"https://colab.research.google.com/assets/colab-badge.svg\" alt=\"Open In Colab\"/></a>"
      ]
    },
    {
      "cell_type": "code",
      "metadata": {
        "colab": {
          "base_uri": "https://localhost:8080/"
        },
        "id": "Txsf_P5goz3P",
        "outputId": "ac76510a-7a0a-47b1-ebe1-ec5a6c19ab02"
      },
      "source": [
        "from google.colab import drive\n",
        "from os.path import join\n",
        "\n",
        "ROOT = '/content/drive'     # default for the drive\n",
        "PROJ = '/MyDrive/Colab Notebooks/nnfl2'       # path to your project on Drive\n",
        "\n",
        "GIT_USERNAME = \"ishika-b\" # replace with yours\n",
        "GIT_TOKEN = \"43e035e869963c4552e0da695c331cfe8a9248f6\"           # definitely replace with yours\n",
        "GIT_REPOSITORY = \"neural-networks\"      # ...nah\n",
        "\n",
        "#drive.mount(ROOT)           # we mount the drive at /content/drive\n",
        "\n",
        "PROJECT_PATH = join(ROOT, PROJ)\n",
        "#!mkdir \"{PROJECT_PATH}\"     # in case we haven't created it already   \n",
        "\n",
        "GIT_PATH = \"https://43e035e869963c4552e0da695c331cfe8a9248f6@github.com/ishika-b/neural-networks.git\"\n",
        "!mkdir ./temp\n",
        "!git clone \"https://43e035e869963c4552e0da695c331cfe8a9248f6@github.com/ishika-b/neural-networks.git\"\n",
        "!mv ./temp/* \"/content/drive/MyDrive/Colab Notebooks/nnfl2\"\n",
        "!rm -rf ./temp\n",
        "!rsync -aP --exclude=data/ \"{PROJECT_PATH}\"/*  ./"
      ],
      "execution_count": null,
      "outputs": [
        {
          "output_type": "stream",
          "text": [
            "fatal: destination path 'neural-networks' already exists and is not an empty directory.\n",
            "mv: cannot stat './temp/*': No such file or directory\n",
            "sending incremental file list\n",
            "rsync: change_dir \"/MyDrive/Colab Notebooks/nnfl2\" failed: No such file or directory (2)\n",
            "rsync error: some files/attrs were not transferred (see previous errors) (code 23) at main.c(1196) [sender=3.1.2]\n"
          ],
          "name": "stdout"
        }
      ]
    },
    {
      "cell_type": "code",
      "metadata": {
        "id": "TaTMMbQyIo4i"
      },
      "source": [
        "!pip install tensorflow \n",
        "!pip install keras"
      ],
      "execution_count": null,
      "outputs": []
    },
    {
      "cell_type": "code",
      "metadata": {
        "id": "LdpeJR5gIxGO"
      },
      "source": [
        "from scipy.io import loadmat\n",
        "import numpy as np\n",
        "\n",
        "from sklearn import metrics\n",
        "from sklearn.metrics import classification_report\n",
        "from sklearn import preprocessing\n",
        "from sklearn.model_selection import train_test_split\n",
        "\n",
        "import keras\n",
        "from keras import models\n",
        "from keras import layers\n",
        "from keras.models import Sequential\n",
        "from keras.layers import Dense, Dropout, Flatten, Reshape\n",
        "from keras.layers import Conv2D, MaxPooling2D\n",
        "from keras.utils import np_utils\n",
        "\n",
        "import cv2"
      ],
      "execution_count": null,
      "outputs": []
    },
    {
      "cell_type": "code",
      "metadata": {
        "id": "U2uBZOYKI9m0"
      },
      "source": [
        "images = []\n",
        "img = cv2.imread('/content/drive/MyDrive/class1_images.zip (Unzipped Files)/class1_images/class11.png)')\n",
        "for i in range(237):\n",
        "  img = cv2.imread('/content/drive/MyDrive/class1_images.zip (Unzipped Files)/class1_images/class1'+ str(i+1)+'.png')\n",
        "  images.append(img)"
      ],
      "execution_count": null,
      "outputs": []
    },
    {
      "cell_type": "code",
      "metadata": {
        "id": "DS6HYlXfNiMa"
      },
      "source": [
        "for i in range(252):\n",
        "  img = cv2.imread('/content/drive/MyDrive/class2_images.zip (Unzipped Files)/class2_images/class2'+ str(i+1)+'.png')\n",
        "  images.append(img)\n",
        "\n",
        "for i in range(231):\n",
        "  img = cv2.imread('/content/drive/MyDrive/class3_images.zip (Unzipped Files)/class3_images/class3'+ str(i+1)+'.png')\n",
        "  images.append(img)"
      ],
      "execution_count": null,
      "outputs": []
    },
    {
      "cell_type": "code",
      "metadata": {
        "id": "8ZLKufKcQWVE"
      },
      "source": [
        "np.random.seed(0)\n",
        "x = np.array(images)\n",
        "y = np.zeros((720,1))\n",
        "\n",
        "y[0:237] = 0 \n",
        "y[237:(237+252)] = 1\n",
        "y[(237+252):720] = 2\n",
        "\n",
        "x_train, x_test, y_train, y_test = train_test_split(x, y, test_size=0.2, random_state=1)\n",
        "x_train, x_val, y_train, y_val = train_test_split(x_train, y_train, test_size=1/8, random_state=1)\n",
        "\n",
        "from keras.utils import to_categorical \n",
        "\n",
        "y_tr_one_hot  = to_categorical(y_train)\n",
        "y_te_one_hot  = to_categorical(y_test)\n",
        "y_val_one_hot = to_categorical(y_val)"
      ],
      "execution_count": null,
      "outputs": []
    },
    {
      "cell_type": "code",
      "metadata": {
        "id": "zEzlK_lvTKOY"
      },
      "source": [
        "\"\"\"\n",
        "x_train = x_train.astype('float32')\n",
        "x_test = x_test.astype('float32')\n",
        "x_val = x_val.astype('float32')\n",
        "x_train = x_train / 255.0\n",
        "x_test = x_test / 255.0\n",
        "x_val = x_val/255.0\n",
        "\"\"\""
      ],
      "execution_count": null,
      "outputs": []
    },
    {
      "cell_type": "code",
      "metadata": {
        "colab": {
          "base_uri": "https://localhost:8080/"
        },
        "id": "ATe6Ry4PVzbD",
        "outputId": "aa81018d-7388-43f4-c127-e8cd50c42a3a"
      },
      "source": [
        "print(x_train.shape)\n",
        "print(x_test.shape)\n",
        "print(x_val.shape)"
      ],
      "execution_count": null,
      "outputs": [
        {
          "output_type": "stream",
          "text": [
            "(504, 656, 875, 3)\n",
            "(144, 656, 875, 3)\n",
            "(72, 656, 875, 3)\n"
          ],
          "name": "stdout"
        }
      ]
    },
    {
      "cell_type": "code",
      "metadata": {
        "colab": {
          "base_uri": "https://localhost:8080/"
        },
        "id": "EHa5I9ROU9lP",
        "outputId": "119828c9-f22f-470d-ce9d-9ead8b8358e4"
      },
      "source": [
        "model = Sequential()\n",
        "model.add(layers.AveragePooling2D(pool_size=(2, 2), strides=3,input_shape=(656, 875, 3))) \n",
        "model.add(layers.Conv2D(60, kernel_size=(7,7), activation='relu'))\n",
        "model.add(layers.MaxPooling2D())\n",
        "model.add(layers.Conv2D(60, kernel_size=(7,7), activation='relu'))\n",
        "model.add(layers.MaxPooling2D())\n",
        "model.add(layers.Conv2D(120, kernel_size=(3,3), activation='relu'))\n",
        "model.add(layers.Conv2D(120, kernel_size=(3,3), activation='relu'))\n",
        "model.add(layers.BatchNormalization())\n",
        "model.add(layers.MaxPooling2D())\n",
        "model.add(layers.Flatten())\n",
        "model.add(layers.Dense(80, activation='relu'))\n",
        "model.add(layers.Dropout(0.3))\n",
        "model.add(layers.Dense(30, activation='relu'))\n",
        "model.add(layers.Dense(20, activation='relu'))\n",
        "model.add(layers.Dense(10, activation='relu'))\n",
        "#model.add(layers.Dropout(0.5))\n",
        "model.add(layers.Dense(3, activation='sigmoid'))\n",
        "print(model.summary())"
      ],
      "execution_count": null,
      "outputs": [
        {
          "output_type": "stream",
          "text": [
            "Model: \"sequential\"\n",
            "_________________________________________________________________\n",
            "Layer (type)                 Output Shape              Param #   \n",
            "=================================================================\n",
            "average_pooling2d (AveragePo (None, 219, 292, 3)       0         \n",
            "_________________________________________________________________\n",
            "conv2d (Conv2D)              (None, 213, 286, 60)      8880      \n",
            "_________________________________________________________________\n",
            "max_pooling2d (MaxPooling2D) (None, 106, 143, 60)      0         \n",
            "_________________________________________________________________\n",
            "conv2d_1 (Conv2D)            (None, 100, 137, 60)      176460    \n",
            "_________________________________________________________________\n",
            "max_pooling2d_1 (MaxPooling2 (None, 50, 68, 60)        0         \n",
            "_________________________________________________________________\n",
            "conv2d_2 (Conv2D)            (None, 48, 66, 120)       64920     \n",
            "_________________________________________________________________\n",
            "conv2d_3 (Conv2D)            (None, 46, 64, 120)       129720    \n",
            "_________________________________________________________________\n",
            "batch_normalization (BatchNo (None, 46, 64, 120)       480       \n",
            "_________________________________________________________________\n",
            "max_pooling2d_2 (MaxPooling2 (None, 23, 32, 120)       0         \n",
            "_________________________________________________________________\n",
            "flatten (Flatten)            (None, 88320)             0         \n",
            "_________________________________________________________________\n",
            "dense (Dense)                (None, 80)                7065680   \n",
            "_________________________________________________________________\n",
            "dropout (Dropout)            (None, 80)                0         \n",
            "_________________________________________________________________\n",
            "dense_1 (Dense)              (None, 30)                2430      \n",
            "_________________________________________________________________\n",
            "dense_2 (Dense)              (None, 20)                620       \n",
            "_________________________________________________________________\n",
            "dense_3 (Dense)              (None, 10)                210       \n",
            "_________________________________________________________________\n",
            "dense_4 (Dense)              (None, 3)                 33        \n",
            "=================================================================\n",
            "Total params: 7,449,433\n",
            "Trainable params: 7,449,193\n",
            "Non-trainable params: 240\n",
            "_________________________________________________________________\n",
            "None\n"
          ],
          "name": "stdout"
        }
      ]
    },
    {
      "cell_type": "code",
      "metadata": {
        "colab": {
          "base_uri": "https://localhost:8080/"
        },
        "id": "z-Qtnjw-qjrT",
        "outputId": "2f8f7276-ca14-4d17-c8cf-89ee051863d3"
      },
      "source": [
        "np.random.seed(0)\n",
        "model.compile(loss='categorical_crossentropy', optimizer='adadelta', metrics=['accuracy'])\n",
        "history = model.fit(x_train, y_tr_one_hot, validation_data=(x_val, y_val_one_hot), epochs=50, batch_size=50)"
      ],
      "execution_count": null,
      "outputs": [
        {
          "output_type": "stream",
          "text": [
            "Epoch 1/50\n",
            " 2/11 [====>.........................] - ETA: 1s - loss: 0.5739 - accuracy: 0.8500WARNING:tensorflow:Callbacks method `on_train_batch_end` is slow compared to the batch time (batch time: 0.0825s vs `on_train_batch_end` time: 0.1665s). Check your callbacks.\n",
            "11/11 [==============================] - 3s 274ms/step - loss: 0.6000 - accuracy: 0.8571 - val_loss: 0.5758 - val_accuracy: 0.8750\n",
            "Epoch 2/50\n",
            "11/11 [==============================] - 3s 242ms/step - loss: 0.5963 - accuracy: 0.8611 - val_loss: 0.5512 - val_accuracy: 0.8889\n",
            "Epoch 3/50\n",
            "11/11 [==============================] - 3s 242ms/step - loss: 0.5776 - accuracy: 0.8552 - val_loss: 0.5311 - val_accuracy: 0.8750\n",
            "Epoch 4/50\n",
            "11/11 [==============================] - 3s 242ms/step - loss: 0.5435 - accuracy: 0.8790 - val_loss: 0.5011 - val_accuracy: 0.9028\n",
            "Epoch 5/50\n",
            "11/11 [==============================] - 3s 243ms/step - loss: 0.5146 - accuracy: 0.8710 - val_loss: 0.4900 - val_accuracy: 0.8889\n",
            "Epoch 6/50\n",
            "11/11 [==============================] - 3s 244ms/step - loss: 0.5162 - accuracy: 0.8671 - val_loss: 0.4662 - val_accuracy: 0.9028\n",
            "Epoch 7/50\n",
            "11/11 [==============================] - 3s 244ms/step - loss: 0.4653 - accuracy: 0.9206 - val_loss: 0.4555 - val_accuracy: 0.8889\n",
            "Epoch 8/50\n",
            "11/11 [==============================] - 3s 248ms/step - loss: 0.4664 - accuracy: 0.8988 - val_loss: 0.4321 - val_accuracy: 0.8889\n",
            "Epoch 9/50\n",
            "11/11 [==============================] - 3s 246ms/step - loss: 0.4639 - accuracy: 0.9067 - val_loss: 0.4130 - val_accuracy: 0.9306\n",
            "Epoch 10/50\n",
            "11/11 [==============================] - 3s 244ms/step - loss: 0.4559 - accuracy: 0.8869 - val_loss: 0.3948 - val_accuracy: 0.9306\n",
            "Epoch 11/50\n",
            "11/11 [==============================] - 3s 244ms/step - loss: 0.4238 - accuracy: 0.9206 - val_loss: 0.3786 - val_accuracy: 0.9306\n",
            "Epoch 12/50\n",
            "11/11 [==============================] - 3s 243ms/step - loss: 0.4057 - accuracy: 0.9286 - val_loss: 0.3644 - val_accuracy: 0.9306\n",
            "Epoch 13/50\n",
            "11/11 [==============================] - 3s 239ms/step - loss: 0.3782 - accuracy: 0.9226 - val_loss: 0.3509 - val_accuracy: 0.9306\n",
            "Epoch 14/50\n",
            "11/11 [==============================] - 3s 238ms/step - loss: 0.3857 - accuracy: 0.9226 - val_loss: 0.3441 - val_accuracy: 0.9028\n",
            "Epoch 15/50\n",
            "11/11 [==============================] - 3s 240ms/step - loss: 0.3771 - accuracy: 0.9266 - val_loss: 0.3196 - val_accuracy: 0.9306\n",
            "Epoch 16/50\n",
            "11/11 [==============================] - 3s 239ms/step - loss: 0.3479 - accuracy: 0.9405 - val_loss: 0.3177 - val_accuracy: 0.9028\n",
            "Epoch 17/50\n",
            "11/11 [==============================] - 3s 240ms/step - loss: 0.3582 - accuracy: 0.9345 - val_loss: 0.2975 - val_accuracy: 0.9306\n",
            "Epoch 18/50\n",
            "11/11 [==============================] - 3s 240ms/step - loss: 0.3645 - accuracy: 0.9067 - val_loss: 0.2936 - val_accuracy: 0.9167\n",
            "Epoch 19/50\n",
            "11/11 [==============================] - 3s 235ms/step - loss: 0.3415 - accuracy: 0.9345 - val_loss: 0.2844 - val_accuracy: 0.9167\n",
            "Epoch 20/50\n",
            "11/11 [==============================] - 3s 237ms/step - loss: 0.3026 - accuracy: 0.9524 - val_loss: 0.2726 - val_accuracy: 0.9167\n",
            "Epoch 21/50\n",
            "11/11 [==============================] - 3s 237ms/step - loss: 0.3153 - accuracy: 0.9444 - val_loss: 0.2513 - val_accuracy: 0.9306\n",
            "Epoch 22/50\n",
            "11/11 [==============================] - 3s 237ms/step - loss: 0.3031 - accuracy: 0.9484 - val_loss: 0.2521 - val_accuracy: 0.9306\n",
            "Epoch 23/50\n",
            "11/11 [==============================] - 3s 234ms/step - loss: 0.2946 - accuracy: 0.9563 - val_loss: 0.2407 - val_accuracy: 0.9306\n",
            "Epoch 24/50\n",
            "11/11 [==============================] - 3s 239ms/step - loss: 0.2709 - accuracy: 0.9464 - val_loss: 0.2367 - val_accuracy: 0.9306\n",
            "Epoch 25/50\n",
            "11/11 [==============================] - 3s 238ms/step - loss: 0.2707 - accuracy: 0.9643 - val_loss: 0.2241 - val_accuracy: 0.9306\n",
            "Epoch 26/50\n",
            "11/11 [==============================] - 3s 237ms/step - loss: 0.2738 - accuracy: 0.9425 - val_loss: 0.2177 - val_accuracy: 0.9306\n",
            "Epoch 27/50\n",
            "11/11 [==============================] - 3s 240ms/step - loss: 0.2680 - accuracy: 0.9504 - val_loss: 0.2111 - val_accuracy: 0.9306\n",
            "Epoch 28/50\n",
            "11/11 [==============================] - 3s 234ms/step - loss: 0.2702 - accuracy: 0.9484 - val_loss: 0.1974 - val_accuracy: 0.9444\n",
            "Epoch 29/50\n",
            "11/11 [==============================] - 3s 239ms/step - loss: 0.2607 - accuracy: 0.9544 - val_loss: 0.1912 - val_accuracy: 0.9444\n",
            "Epoch 30/50\n",
            "11/11 [==============================] - 3s 237ms/step - loss: 0.2565 - accuracy: 0.9464 - val_loss: 0.1919 - val_accuracy: 0.9444\n",
            "Epoch 31/50\n",
            "11/11 [==============================] - 3s 234ms/step - loss: 0.2419 - accuracy: 0.9603 - val_loss: 0.1916 - val_accuracy: 0.9444\n",
            "Epoch 32/50\n",
            "11/11 [==============================] - 3s 239ms/step - loss: 0.2481 - accuracy: 0.9583 - val_loss: 0.1824 - val_accuracy: 0.9444\n",
            "Epoch 33/50\n",
            "11/11 [==============================] - 3s 238ms/step - loss: 0.2380 - accuracy: 0.9405 - val_loss: 0.1751 - val_accuracy: 0.9583\n",
            "Epoch 34/50\n",
            "11/11 [==============================] - 3s 237ms/step - loss: 0.2347 - accuracy: 0.9504 - val_loss: 0.1762 - val_accuracy: 0.9444\n",
            "Epoch 35/50\n",
            "11/11 [==============================] - 3s 239ms/step - loss: 0.2288 - accuracy: 0.9603 - val_loss: 0.1696 - val_accuracy: 0.9583\n",
            "Epoch 36/50\n",
            "11/11 [==============================] - 3s 242ms/step - loss: 0.2236 - accuracy: 0.9563 - val_loss: 0.1612 - val_accuracy: 0.9583\n",
            "Epoch 37/50\n",
            "11/11 [==============================] - 3s 240ms/step - loss: 0.2179 - accuracy: 0.9484 - val_loss: 0.1637 - val_accuracy: 0.9583\n",
            "Epoch 38/50\n",
            "11/11 [==============================] - 3s 239ms/step - loss: 0.2024 - accuracy: 0.9722 - val_loss: 0.1555 - val_accuracy: 0.9583\n",
            "Epoch 39/50\n",
            "11/11 [==============================] - 3s 243ms/step - loss: 0.2162 - accuracy: 0.9563 - val_loss: 0.1536 - val_accuracy: 0.9583\n",
            "Epoch 40/50\n",
            "11/11 [==============================] - 3s 243ms/step - loss: 0.1920 - accuracy: 0.9702 - val_loss: 0.1494 - val_accuracy: 0.9722\n",
            "Epoch 41/50\n",
            "11/11 [==============================] - 3s 240ms/step - loss: 0.2165 - accuracy: 0.9563 - val_loss: 0.1465 - val_accuracy: 0.9583\n",
            "Epoch 42/50\n",
            "11/11 [==============================] - 3s 239ms/step - loss: 0.2044 - accuracy: 0.9643 - val_loss: 0.1395 - val_accuracy: 0.9722\n",
            "Epoch 43/50\n",
            "11/11 [==============================] - 3s 241ms/step - loss: 0.1794 - accuracy: 0.9683 - val_loss: 0.1359 - val_accuracy: 0.9722\n",
            "Epoch 44/50\n",
            "11/11 [==============================] - 3s 240ms/step - loss: 0.1917 - accuracy: 0.9623 - val_loss: 0.1310 - val_accuracy: 0.9722\n",
            "Epoch 45/50\n",
            "11/11 [==============================] - 3s 237ms/step - loss: 0.1835 - accuracy: 0.9643 - val_loss: 0.1289 - val_accuracy: 0.9583\n",
            "Epoch 46/50\n",
            "11/11 [==============================] - 3s 240ms/step - loss: 0.1773 - accuracy: 0.9583 - val_loss: 0.1260 - val_accuracy: 0.9722\n",
            "Epoch 47/50\n",
            "11/11 [==============================] - 3s 238ms/step - loss: 0.1705 - accuracy: 0.9782 - val_loss: 0.1237 - val_accuracy: 0.9722\n",
            "Epoch 48/50\n",
            "11/11 [==============================] - 3s 239ms/step - loss: 0.1777 - accuracy: 0.9702 - val_loss: 0.1207 - val_accuracy: 0.9722\n",
            "Epoch 49/50\n",
            "11/11 [==============================] - 3s 240ms/step - loss: 0.1766 - accuracy: 0.9583 - val_loss: 0.1179 - val_accuracy: 0.9722\n",
            "Epoch 50/50\n",
            "11/11 [==============================] - 3s 236ms/step - loss: 0.1679 - accuracy: 0.9742 - val_loss: 0.1132 - val_accuracy: 0.9722\n"
          ],
          "name": "stdout"
        }
      ]
    },
    {
      "cell_type": "code",
      "metadata": {
        "colab": {
          "base_uri": "https://localhost:8080/"
        },
        "id": "WHZP21WQxHJO",
        "outputId": "0c09d96e-c892-4c21-c8e3-f6cef135c9ec"
      },
      "source": [
        "test_loss, test_acc = model.evaluate(x_test,  y_te_one_hot, verbose=0)\n",
        "print('Accuracy:',test_acc)"
      ],
      "execution_count": null,
      "outputs": [
        {
          "output_type": "stream",
          "text": [
            "Accuracy: 0.9791666865348816\n"
          ],
          "name": "stdout"
        }
      ]
    },
    {
      "cell_type": "code",
      "metadata": {
        "colab": {
          "base_uri": "https://localhost:8080/"
        },
        "id": "--F8z3F9QKpZ",
        "outputId": "741b13ac-5f7c-4cd6-9348-6f87b58fe609"
      },
      "source": [
        "from sklearn.metrics import confusion_matrix\n",
        "y_pred = np.argmax(model.predict(np.array(x_test)), axis = -1) + 1\n",
        "#print(y_pred)\n",
        "cm = confusion_matrix(y_test, y_pred)\n",
        "print(cm)"
      ],
      "execution_count": null,
      "outputs": [
        {
          "output_type": "stream",
          "text": [
            "[[ 0 49  0  0]\n",
            " [ 0  0 43  3]\n",
            " [ 0  0  0 49]\n",
            " [ 0  0  0  0]]\n"
          ],
          "name": "stdout"
        }
      ]
    },
    {
      "cell_type": "code",
      "metadata": {
        "colab": {
          "base_uri": "https://localhost:8080/"
        },
        "id": "rq389RJbVPIi",
        "outputId": "f89aefd8-a423-4b96-ad22-53d34b938598"
      },
      "source": [
        "print(\"class 0 accuracy:\",cm[0,1]/(cm[0,1]+cm[0,2]+cm[0,3]) )\n",
        "print(\"class 1 accuracy:\",cm[1,2]/(cm[1,1]+cm[1,2]+cm[1,3]))\n",
        "print(\"class 2 accuracy:\",cm[2,3]/(cm[2,1]+cm[2,2]+cm[2,3]) )"
      ],
      "execution_count": null,
      "outputs": [
        {
          "output_type": "stream",
          "text": [
            "class 0 accuracy: 1.0\n",
            "class 1 accuracy: 0.9347826086956522\n",
            "class 2 accuracy: 1.0\n"
          ],
          "name": "stdout"
        }
      ]
    }
  ]
}