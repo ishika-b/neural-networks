{
  "nbformat": 4,
  "nbformat_minor": 0,
  "metadata": {
    "colab": {
      "name": "nnfl_assn2_q8.ipynb",
      "provenance": [],
      "mount_file_id": "1cCMj_txyceLBhhoH6wAKcwZ_yt3OwZMn",
      "authorship_tag": "ABX9TyMYlMnqProhe45bA0BNT7Qs",
      "include_colab_link": true
    },
    "kernelspec": {
      "name": "python3",
      "display_name": "Python 3"
    }
  },
  "cells": [
    {
      "cell_type": "markdown",
      "metadata": {
        "id": "view-in-github",
        "colab_type": "text"
      },
      "source": [
        "<a href=\"https://colab.research.google.com/github/ishika-b/neural-networks/blob/main/nnfl_assn2_q8.ipynb\" target=\"_parent\"><img src=\"https://colab.research.google.com/assets/colab-badge.svg\" alt=\"Open In Colab\"/></a>"
      ]
    },
    {
      "cell_type": "code",
      "metadata": {
        "id": "d1Tzuotr68KC"
      },
      "source": [
        "import numpy as np\n",
        "import pandas as pd\n",
        "import scipy.io\n",
        "from scipy.io import loadmat\n",
        "from sklearn import metrics\n",
        "from sklearn.metrics import accuracy_score\n",
        "from sklearn.metrics import classification_report\n",
        "from sklearn import  preprocessing\n",
        "from sklearn.preprocessing import StandardScaler\n",
        "normalizer = StandardScaler()\n",
        "from sklearn.model_selection import train_test_split\n",
        "import math"
      ],
      "execution_count": null,
      "outputs": []
    },
    {
      "cell_type": "code",
      "metadata": {
        "colab": {
          "base_uri": "https://localhost:8080/"
        },
        "id": "dQ-fE_zF1CIz",
        "outputId": "4fbb54ba-f35c-48db-81f4-307776cc1f1c"
      },
      "source": [
        "np.random.seed(1)\n",
        "lmat = scipy.io.loadmat('/content/drive/MyDrive/nnfl/nnfl2/data5.mat')\n",
        "data = lmat['x']\n",
        "df = pd.DataFrame(data)\n",
        "data = np.array(df)\n",
        "x = data [:,0:72]\n",
        "y = data[:,72]\n",
        "\n",
        "#change class  labels to -1 and 1 \n",
        "for i in range(x.shape[0]):\n",
        "  if y[i]==0:\n",
        "    y[i]=-1\n",
        "  \n",
        "#normalize\n",
        "##means = np.mean(x,axis = 0)\n",
        "##column_wise_std_devs = np.std(x,axis = 0)\n",
        "x = (x - np.mean(x,axis = 0))/ np.std(x,axis = 0)\n",
        "  \n",
        "#Split data\n",
        "x_train, x_test, y_train, y_test = train_test_split(x, y, test_size=0.2, random_state=1)\n",
        "x_train, x_val, y_train, y_val = train_test_split(x_train, y_train, test_size=1/8, random_state=1)\n",
        "\n",
        "m,n = x_train.shape\n",
        "m_test, n_test = x_test.shape\n",
        "\n",
        "mus = np.zeros(m) #mus initialised to 0 \n",
        "b = 0 #biases initialised to 0\n",
        "E = np.zeros(m) \n",
        "eta = 0\n",
        "H = 0\n",
        "L = 0\n",
        "K = x_train@x_train.T\n",
        "iters = 0\n",
        "max_iters = 100\n",
        "bound = 1e-2\n",
        "C = 13\n",
        "while (iters < max_iters):\n",
        "  count_change = 0\n",
        "  #print(\"iteration\",iters)\n",
        "  for i in range(m):\n",
        "    f = b + np.sum(np.multiply(np.multiply(mus,y_train),K[:,i]))\n",
        "    E[i] = f - y_train[i]\n",
        "    if ((y_train[i]*E[i]<-bound and mus[i]<C) or (y_train[i]*E[i]>bound and mus[i]>0)):\n",
        "      j = math.ceil((m-1)*np.random.rand())\n",
        "      while j==i:\n",
        "        j = math.ceil((m-1)*np.random.rand())\n",
        "      E[j] = b + np.sum(np.multiply(np.multiply(mus,y_train),K[:,j])) - y_train[j]\n",
        "      mus_i_old = mus[i]\n",
        "      mus_j_old = mus[j]\n",
        "\n",
        "      if y_train[i]==y_train[j]:\n",
        "        L = max(0.0,(mus[j]+mus[i]-C))\n",
        "        H = min(C, (mus[j]+mus[i]))\n",
        "      else:\n",
        "        L = max(0, mus[j]-mus[i])\n",
        "        H = min(C, C+mus[j]-mus[i])\n",
        "\n",
        "      if L==H:\n",
        "        continue\n",
        "      eta = 2*K[i][j]-K[i][i]-K[j][j]\n",
        "      if eta>=0:\n",
        "        continue\n",
        "      mus[j] = mus[j] - (y_train[j]*(E[i]-E[j]))/eta\n",
        "      #print(j,mus[j])\n",
        "      #print(L,H)\n",
        "      mus[j] = min(H,mus[j])\n",
        "      mus[j] = max(L,mus[j])\n",
        "      #print(j,mus[j])\n",
        "      \n",
        "      if (abs(mus[j]-mus_j_old)<bound):\n",
        "        mus[j] = mus_j_old\n",
        "        continue\n",
        "      #print(abs(mus[j]-mus_j_old))\n",
        "      mus[i] = mus[i] + y_train[i]*y_train[j]*(mus_j_old-mus[j])\n",
        "      b1 = b -E[i]-y_train[i]*(mus[i]-mus_i_old)*K[i][i]-y_train[j]*(mus[j]-mus_j_old)*K[i][j]\n",
        "      b2 = b -E[j]-y_train[i]*(mus[i]-mus_i_old)*K[i][j]-y_train[j]*(mus[j]-mus_j_old)*K[j][j]\n",
        "      if (0 < mus[i] and mus[i] < C):\n",
        "        b = b1\n",
        "      elif (0 < mus[j] and mus[j] < C):\n",
        "        b = b2\n",
        "      else:\n",
        "        b = (b1+b2)/2\n",
        "      count_change = count_change + 1\n",
        "      #print(\"count-change\",count_change)\n",
        "    if (count_change == 0):\n",
        "      iters = iters + 1\n",
        "      #print(mus)\n",
        "    else:\n",
        "      iters = 0\n",
        "\n",
        "  w = 0\n",
        "  num_sv = 0\n",
        "  for i in range(m):\n",
        "    if mus[i]>0: #only these are the support vectors \n",
        "      w += mus[i]*y_train[i]*x[i,:]\n",
        "      num_sv += 1"
      ],
      "execution_count": null,
      "outputs": [
        {
          "output_type": "stream",
          "text": [
            "0.8488372093023255\n"
          ],
          "name": "stdout"
        }
      ]
    },
    {
      "cell_type": "code",
      "metadata": {
        "colab": {
          "base_uri": "https://localhost:8080/"
        },
        "id": "Aa0_C3ckJeiK",
        "outputId": "4f88c7ef-5b64-4ed9-8ac9-f9dfa750a36d"
      },
      "source": [
        "m_val, n_val = x_val.shape\n",
        "y_pred_val = np.zeros(m_val)\n",
        "for i in range(m_val):\n",
        "  sum = 0\n",
        "  for j in range(m):\n",
        "    if mus[j]>=0: #only these are the support vectors \n",
        "      sum += mus[j]*y_train[j]*np.dot(x_train[j],x_val[i].T)\n",
        "  sum += b\n",
        "  y_pred_val[i] = np.sign(sum)\n",
        "\n",
        "acc = 0\n",
        "for i in range(m_val):\n",
        "  if (y_pred_val[i] == -1 and y_val[i] == -1) or (y_pred_val[i] == 1 and y_val[i] == 1):\n",
        "    acc += 1\n",
        "acc = acc/m_val\n",
        "print(acc)"
      ],
      "execution_count": null,
      "outputs": [
        {
          "output_type": "stream",
          "text": [
            "0.8558139534883721\n"
          ],
          "name": "stdout"
        }
      ]
    },
    {
      "cell_type": "code",
      "metadata": {
        "colab": {
          "base_uri": "https://localhost:8080/"
        },
        "id": "SYukJ94_KHpg",
        "outputId": "bcbe973a-0f38-4a80-d35d-1d49ccd34231"
      },
      "source": [
        "from sklearn.metrics import confusion_matrix\n",
        "cm = confusion_matrix(y_val, y_pred_val)\n",
        "print(\"validation class 0 accuracy:\", cm[0,0]/(cm[0,0]+cm[0,1]))\n",
        "print(\"validation class 1 accuracy :\", cm[1,1]/(cm[1,1]+cm[1,0]))"
      ],
      "execution_count": null,
      "outputs": [
        {
          "output_type": "stream",
          "text": [
            "validation class 0 accuracy: 0.8679245283018868\n",
            "validation class 1 accuracy : 0.8440366972477065\n"
          ],
          "name": "stdout"
        }
      ]
    },
    {
      "cell_type": "code",
      "metadata": {
        "colab": {
          "base_uri": "https://localhost:8080/"
        },
        "id": "f8qsuMLHJO9j",
        "outputId": "c617fc75-d73b-447a-9fbb-1bfdba3ca95c"
      },
      "source": [
        "y_pred = np.zeros(m_test)\n",
        "for i in range(m_test):\n",
        "  sum = 0\n",
        "  for j in range(m):\n",
        "    if mus[j]>=0: #only these are the support vectors \n",
        "      sum += mus[j]*y_train[j]*np.dot(x_train[j],x_test[i].T)\n",
        "  sum += b\n",
        "  y_pred[i] = np.sign(sum)\n",
        "\n",
        "\n",
        "acc = 0\n",
        "for i in range(m_test):\n",
        "  if (y_pred[i] == -1 and y_test[i] == -1) or (y_pred[i] == 1 and y_test[i] == 1):\n",
        "    acc += 1\n",
        "acc = acc/m_test\n",
        "print(\"overall testing acuracy:\",acc)"
      ],
      "execution_count": null,
      "outputs": [
        {
          "output_type": "stream",
          "text": [
            "overall testing acuracy: 0.8488372093023255\n"
          ],
          "name": "stdout"
        }
      ]
    },
    {
      "cell_type": "code",
      "metadata": {
        "colab": {
          "base_uri": "https://localhost:8080/"
        },
        "id": "zEHrC5XlJX9q",
        "outputId": "25dbda6a-3190-4b77-bbc9-449904d3d5b4"
      },
      "source": [
        "from sklearn.metrics import confusion_matrix\n",
        "cm = confusion_matrix(y_val, y_pred_val)\n",
        "print(\"validation class 0 accuracy:\", cm[0,0]/(cm[0,0]+cm[0,1]))\n",
        "print(\"validation class 1 accuracy :\", cm[1,1]/(cm[1,1]+cm[1,0]))"
      ],
      "execution_count": null,
      "outputs": [
        {
          "output_type": "stream",
          "text": [
            "validation class 0 accuracy: 0.8679245283018868\n",
            "validation class 1 accuracy : 0.8440366972477065\n"
          ],
          "name": "stdout"
        }
      ]
    }
  ]
}