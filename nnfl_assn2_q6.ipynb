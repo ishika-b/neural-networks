{
  "nbformat": 4,
  "nbformat_minor": 0,
  "metadata": {
    "colab": {
      "name": "nnfl_assn2_q6.ipynb",
      "provenance": [],
      "mount_file_id": "1kzcaWK2cyEGQ2v7f-HJubB78fo0a0T5o",
      "authorship_tag": "ABX9TyMMNFiPONnzRjsIYRJlmrJI",
      "include_colab_link": true
    },
    "kernelspec": {
      "name": "python3",
      "display_name": "Python 3"
    }
  },
  "cells": [
    {
      "cell_type": "markdown",
      "metadata": {
        "id": "view-in-github",
        "colab_type": "text"
      },
      "source": [
        "<a href=\"https://colab.research.google.com/github/ishika-b/neural-networks/blob/main/nnfl_assn2_q6.ipynb\" target=\"_parent\"><img src=\"https://colab.research.google.com/assets/colab-badge.svg\" alt=\"Open In Colab\"/></a>"
      ]
    },
    {
      "cell_type": "code",
      "metadata": {
        "id": "FvEa5Ns7p4HF"
      },
      "source": [
        "import numpy as np\n",
        "from scipy.io import loadmat\n",
        "import pandas as pd\n",
        "from sklearn.cluster import KMeans\n",
        "from sklearn.metrics import accuracy_score\n",
        "import math\n",
        "from sklearn.model_selection import KFold\n",
        "from sklearn.metrics import confusion_matrix"
      ],
      "execution_count": null,
      "outputs": []
    },
    {
      "cell_type": "code",
      "metadata": {
        "id": "lREBOYYMn-YF"
      },
      "source": [
        "if __name__ == '__main__':\n",
        "  mat_data = loadmat('/content/drive/My Drive/nnfl/nnfl2/data5.mat')\n",
        "  data = mat_data['x'] #numpy array\n",
        "\n",
        "  np.random.seed(2)\n",
        "  np.random.shuffle(data) #shuffling row wise to get a 2148x73 np array\n",
        "\n",
        "  x = data[:,:-1]\n",
        "  y = data[:,-1]\n",
        "  #print(np.unique(y)) 2 class levels : 1 , 0\n",
        "\n",
        "  for i in range(x.shape[1]):\n",
        "    mean = np.mean(x[:,i]) \n",
        "    std = np.std(x[:,i])\n",
        "    x[:,i] = [(a-mean)/std for a in x[:,i]]\n",
        " \n",
        "  acc = []\n",
        "  class_zero_acc = []\n",
        "  class_one_acc = []"
      ],
      "execution_count": null,
      "outputs": []
    },
    {
      "cell_type": "markdown",
      "metadata": {
        "id": "1G-tv3wkoBa7"
      },
      "source": [
        "WITH TANH"
      ]
    },
    {
      "cell_type": "code",
      "metadata": {
        "id": "D1qyJI94qDFc",
        "colab": {
          "base_uri": "https://localhost:8080/"
        },
        "outputId": "85328206-d950-434d-f46f-89752c7ccf62"
      },
      "source": [
        "\n",
        "  cf = KFold(n_splits=5, shuffle=True)\n",
        "  fold = 1 \n",
        "  for train_index, test_index in cf.split(x):\n",
        "      #print(\"TRAIN:\", train_index.shape, \"TEST:\", test_index.shape)\n",
        "      x_train, x_test = x[train_index], x[test_index]\n",
        "      y_tr, y_test = y[train_index], y[test_index]\n",
        "\n",
        "      one_hot_y = np.eye(2)\n",
        "      y_train = np.zeros((y_tr.shape[0], 2))\n",
        "      for i in range(y_train.shape[0]):\n",
        "        if (y_tr[i] == 1):\n",
        "          y_train[i] = one_hot_y[1]\n",
        "        else: y_train[i] = one_hot_y[0]\n",
        "\n",
        "      #(m,L) hidden layer matrix\n",
        "      x_train = np.append(np.ones((x_train.shape[0],1)),x_train,axis=1) \n",
        "      random_mat = np.random.standard_normal((x_train.shape[1],10000)) # 73 x num of hidden neurons \n",
        "      tempH = np.matmul(x_train,random_mat) #1504x100\n",
        "      H = np.tanh(tempH)\n",
        "      W = np.matmul(np.linalg.pinv(H),y_train)\n",
        "\n",
        "      x_test = np.append(np.ones((x_test.shape[0],1)),x_test,axis=1)\n",
        "      H_test = np.tanh(np.matmul(x_test,random_mat))\n",
        "      Y_pred = np.matmul(H_test,W)\n",
        "\n",
        "      Y_pred = np.argmax(Y_pred,axis = 1)\n",
        "      score = accuracy_score(y_test, Y_pred)\n",
        "      print(\"overall accuracy in \", fold,\" :\",score.mean())\n",
        "      acc.append(score.mean())\n",
        "\n",
        "      cm = confusion_matrix(y_test, Y_pred)\n",
        "      print(\"class 0 accuracy in \", fold,\" :\", cm[0,0]/(cm[0,0]+cm[0,1]))\n",
        "      class_zero_acc.append(cm[0,0]/(cm[0,0]+cm[0,1]))\n",
        "      print(\"class 1 accuracy in \", fold,\" :\", cm[1,1]/(cm[1,1]+cm[1,0]))\n",
        "      class_one_acc.append(cm[1,1]/(cm[1,1]+cm[1,0]))\n",
        "\n",
        "      fold = fold + 1"
      ],
      "execution_count": null,
      "outputs": [
        {
          "output_type": "stream",
          "text": [
            "overall accuracy in  1  : 0.9674418604651163\n",
            "class 0 accuracy in  1  : 0.9811320754716981\n",
            "class 1 accuracy in  1  : 0.9541284403669725\n",
            "overall accuracy in  2  : 0.9534883720930233\n",
            "class 0 accuracy in  2  : 0.9423076923076923\n",
            "class 1 accuracy in  2  : 0.963963963963964\n",
            "overall accuracy in  3  : 0.9697674418604652\n",
            "class 0 accuracy in  3  : 0.9598214285714286\n",
            "class 1 accuracy in  3  : 0.9805825242718447\n",
            "overall accuracy in  4  : 0.958041958041958\n",
            "class 0 accuracy in  4  : 0.9285714285714286\n",
            "class 1 accuracy in  4  : 0.9863013698630136\n",
            "overall accuracy in  5  : 0.9463869463869464\n",
            "class 0 accuracy in  5  : 0.9457013574660633\n",
            "class 1 accuracy in  5  : 0.9471153846153846\n"
          ],
          "name": "stdout"
        }
      ]
    },
    {
      "cell_type": "code",
      "metadata": {
        "colab": {
          "base_uri": "https://localhost:8080/"
        },
        "id": "b3nOZpEySTL4",
        "outputId": "b00ebfec-4cb8-443b-d800-62099f8d4c8e"
      },
      "source": [
        "from statistics import mean \n",
        "print(\"average overall accuracy\", mean(acc))\n",
        "print(\"average class 0 accuracy\", mean(class_zero_acc))\n",
        "print(\"average class 1 accuracy\", mean(class_one_acc))"
      ],
      "execution_count": null,
      "outputs": [
        {
          "output_type": "stream",
          "text": [
            "average overall accuracy 0.9590253157695018\n",
            "average class 0 accuracy 0.9515067964776622\n",
            "average class 1 accuracy 0.9664183366162359\n"
          ],
          "name": "stdout"
        }
      ]
    },
    {
      "cell_type": "markdown",
      "metadata": {
        "id": "j7efpur8oHuz"
      },
      "source": [
        "WITH GAUSSIAN"
      ]
    },
    {
      "cell_type": "code",
      "metadata": {
        "id": "mfjXkENgo81v"
      },
      "source": [
        "def gaussian(z):\n",
        "  return  (-1/2)*np.exp(z)"
      ],
      "execution_count": null,
      "outputs": []
    },
    {
      "cell_type": "code",
      "metadata": {
        "id": "CkM5W7MWoM-e",
        "colab": {
          "base_uri": "https://localhost:8080/"
        },
        "outputId": "a460a623-4faf-4b69-9d03-9f14861ca4d3"
      },
      "source": [
        "  cf = KFold(n_splits=5, shuffle=True)\n",
        "  fold = 1 \n",
        "  for train_index, test_index in cf.split(x):\n",
        "      #print(\"TRAIN:\", train_index.shape, \"TEST:\", test_index.shape)\n",
        "      x_train, x_test = x[train_index], x[test_index]\n",
        "      y_tr, y_test = y[train_index], y[test_index]\n",
        "\n",
        "      one_hot_y = np.eye(2)\n",
        "      y_train = np.zeros((y_tr.shape[0], 2))\n",
        "      for i in range(y_train.shape[0]):\n",
        "        if (y_tr[i] == 1):\n",
        "          y_train[i] = one_hot_y[1]\n",
        "        else: y_train[i] = one_hot_y[0]\n",
        "\n",
        "      #(m,L) hidden layer matrix\n",
        "      x_train = np.append(np.ones((x_train.shape[0],1)),x_train,axis=1) \n",
        "      random_mat = np.random.standard_normal((x_train.shape[1],7000)) # 73 x num of hidden neurons \n",
        "\n",
        "      tempH = np.zeros((x_train.shape[0], random_mat.shape[1]))\n",
        "\n",
        "      b = abs(np.random.standard_normal())\n",
        "  \n",
        "      for i in range(x_train.shape[0]):\n",
        "        for j in range(random_mat.shape[1]):\n",
        "            tempH[i][j] = np.linalg.norm(x_train[i,:] - random_mat[:,j]) #(x_train = 1504, 73)(random_mat= 73x1000)= (1504x100)\n",
        "      H = np.exp(b*tempH)\n",
        "      W = np.matmul(np.linalg.pinv(H),y_train)\n",
        "\n",
        "      x_test = np.append(np.ones((x_test.shape[0],1)),x_test,axis=1) #430,73\n",
        "\n",
        "      tempH_test = np.zeros((x_test.shape[0], random_mat.shape[1]))\n",
        "\n",
        "      for i in range(x_test.shape[0]):#430\n",
        "        for j in range(random_mat.shape[1]):#7000\n",
        "            tempH_test[i][j] = np.linalg.norm(x_test[i,:] - random_mat[:,j]) #(x_train = 1504, 73)(random_mat= 73x1000)= (1504x100)\n",
        "      H_test = np.exp(b*tempH_test)\n",
        "      Y_pred = np.matmul(H_test,W)\n",
        "\n",
        "      Y_pred = np.argmax(Y_pred,axis = 1)\n",
        "      score = accuracy_score(y_test, Y_pred)\n",
        "      print(\"overall accuracy in \", fold,\" :\",score.mean())\n",
        "      acc.append(score.mean())\n",
        "\n",
        "      cm = confusion_matrix(y_test, Y_pred)\n",
        "      print(\"class 0 accuracy in \", fold,\" :\", cm[0,0]/(cm[0,0]+cm[0,1]))\n",
        "      class_zero_acc.append(cm[0,0]/(cm[0,0]+cm[0,1]))\n",
        "      print(\"class 1 accuracy in \", fold,\" :\", cm[1,1]/(cm[1,1]+cm[1,0]))\n",
        "      class_one_acc.append(cm[1,1]/(cm[1,1]+cm[1,0]))\n",
        "\n",
        "      fold = fold + 1"
      ],
      "execution_count": null,
      "outputs": [
        {
          "output_type": "stream",
          "text": [
            "overall accuracy in  1  : 0.49534883720930234\n",
            "class 0 accuracy in  1  : 1.0\n",
            "class 1 accuracy in  1  : 0.0\n",
            "overall accuracy in  2  : 0.9279069767441861\n",
            "class 0 accuracy in  2  : 0.9140271493212669\n",
            "class 1 accuracy in  2  : 0.9425837320574163\n",
            "overall accuracy in  3  : 0.43953488372093025\n",
            "class 0 accuracy in  3  : 0.11304347826086956\n",
            "class 1 accuracy in  3  : 0.815\n",
            "overall accuracy in  4  : 0.4405594405594406\n",
            "class 0 accuracy in  4  : 0.2\n",
            "class 1 accuracy in  4  : 0.6607142857142857\n",
            "overall accuracy in  5  : 0.41025641025641024\n",
            "class 0 accuracy in  5  : 0.24271844660194175\n",
            "class 1 accuracy in  5  : 0.5650224215246636\n"
          ],
          "name": "stdout"
        }
      ]
    },
    {
      "cell_type": "code",
      "metadata": {
        "id": "BPAo9fBZvdN8",
        "colab": {
          "base_uri": "https://localhost:8080/"
        },
        "outputId": "03d04d3a-551d-4b81-a6d5-e73e538b4181"
      },
      "source": [
        "print(\"average overall accuracy\", np.mean(acc))\n",
        "print(\"average class 0 accuracy\", np.mean(class_zero_acc))\n",
        "print(\"average class 1 accuracy\", np.mean(class_one_acc))"
      ],
      "execution_count": null,
      "outputs": [
        {
          "output_type": "stream",
          "text": [
            "average overall accuracy 0.5723621844956526\n",
            "average class 0 accuracy 0.6780970347113443\n",
            "average class 1 accuracy 0.46654794139155303\n"
          ],
          "name": "stdout"
        }
      ]
    }
  ]
}