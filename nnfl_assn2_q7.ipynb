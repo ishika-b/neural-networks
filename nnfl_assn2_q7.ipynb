{
  "nbformat": 4,
  "nbformat_minor": 0,
  "metadata": {
    "colab": {
      "name": "nnfl_assn2_q7.ipynb",
      "provenance": [],
      "mount_file_id": "1BdNx9S64N1Rmtdu-EGFUCNAQYwTiut42",
      "authorship_tag": "ABX9TyOXsESfyTbOiNV0I1oIhOET",
      "include_colab_link": true
    },
    "kernelspec": {
      "name": "python3",
      "display_name": "Python 3"
    }
  },
  "cells": [
    {
      "cell_type": "markdown",
      "metadata": {
        "id": "view-in-github",
        "colab_type": "text"
      },
      "source": [
        "<a href=\"https://colab.research.google.com/github/ishika-b/neural-networks/blob/main/nnfl_assn2_q7.ipynb\" target=\"_parent\"><img src=\"https://colab.research.google.com/assets/colab-badge.svg\" alt=\"Open In Colab\"/></a>"
      ]
    },
    {
      "cell_type": "code",
      "metadata": {
        "id": "5vIDRtHa1ODp"
      },
      "source": [
        "import numpy as np\n",
        "import pandas as pd\n",
        "import scipy.io\n",
        "from scipy.io import loadmat\n",
        "from sklearn import metrics\n",
        "from sklearn.metrics import accuracy_score\n",
        "from sklearn.metrics import classification_report\n",
        "from sklearn import  preprocessing\n",
        "from sklearn.preprocessing import StandardScaler\n",
        "normalizer = StandardScaler()\n",
        "from sklearn.model_selection import train_test_split\n",
        "from sklearn.metrics import confusion_matrix"
      ],
      "execution_count": null,
      "outputs": []
    },
    {
      "cell_type": "code",
      "metadata": {
        "id": "hkDoDMXuY4G9"
      },
      "source": [
        "np.random.seed(0)\n",
        "lmat = loadmat('/content/drive/MyDrive/nnfl/nnfl2/data5.mat')\n",
        "data = lmat['x']\n",
        "df = pd.DataFrame(data)\n",
        "data = np.array(df)\n",
        "\n",
        "x = data [:,0:72]\n",
        "y = data[:,72]\n",
        "m = x.shape[0]\n",
        "\n",
        "#normalize\n",
        "means = np.mean(x,axis = 0)\n",
        "std_devs = np.std(x,axis = 0)\n",
        "x = (x - means)/std_devs\n",
        "\n",
        "y = y.reshape(m,1)\n",
        "\n",
        "x_train, x_test, y_train, y_test = train_test_split(x, y, test_size=0.2, random_state=1)\n",
        "x_train, x_val, y_train, y_val = train_test_split(x_train, y_train, test_size=1/8, random_state=1)\n",
        "\n",
        "m,n = x_train.shape\n",
        "m_test, n_test = x_test.shape\n",
        "m_val, n_val = x_val.shape\n",
        "\n",
        "y_tr = np.zeros((m,2), dtype=int)\n",
        "for i in range(m):\n",
        "  val = int(y_train[i][0])\n",
        "  y_tr[i][val] = 1\n",
        "\n",
        "dim = [72,3000,5000,2]\n",
        "\n",
        "lambd = 0.001\n",
        "\n",
        "x_train = np.insert(x_train, 0, np.ones(m), axis = 1) #(1503,73)\n",
        "random_mat = np.random.standard_normal(size=(dim[1], dim[0]+1)) #(3000,73) hidden layer weights \n",
        "H1 = np.tanh(np.dot(random_mat, x_train.T)) #(3000,1503) hidden layer values \n",
        "w1_temp = np.dot(H1,H1.T)+ np.eye(dim[1])/lambd #(HTH +1/lam*I) \n",
        "w1 = np.dot(H1.T, np.linalg.inv(w1_temp)) #multiplied by H.T\n",
        "W1 = np.dot(w1.T,x_train) #(3000,73) #weight matrix\n",
        "H1 = H1.T #1503,3000\n",
        "\n",
        "lambd = 0.0001\n",
        "\n",
        "H1 = np.insert(H1, 0, np.ones(m), axis = 1) #(1503,3001)\n",
        "random_mat = np.random.standard_normal(size=(dim[2], dim[1]+1)) #(5000,3001)\n",
        "H2 = np.tanh(np.dot(random_mat, H1.T)) #(5000,3001)*(3001,1503)\n",
        "w2_temp = np.dot(H2,H2.T)+ np.eye(dim[2])/lambd #(5000,1503)(1503,5000)\n",
        "w2 = np.dot(H2.T, np.linalg.inv(w2_temp)) #(1503,5000)*(5000,5000)\n",
        "W2 = np.dot(w2.T, H1) #(5000,1503)*(1503,3001)=(5000,3001)\n",
        "H2 = H2.T#1503,5000"
      ],
      "execution_count": null,
      "outputs": []
    },
    {
      "cell_type": "code",
      "metadata": {
        "colab": {
          "base_uri": "https://localhost:8080/"
        },
        "id": "aB4JuI8UvhrF",
        "outputId": "ab8a9958-30e6-460f-d797-9bde8cd05180"
      },
      "source": [
        "H2 = np.insert(H2, 0, np.ones(m), axis = 1) #1503,5001\n",
        "w3_temp = np.dot(H2.T,H2)  +  np.eye(dim[2]+1)/lambd\n",
        "w3 = np.dot(H2, np.linalg.pinv(w3_temp))\n",
        "W3 = (np.dot(w3.T,y_tr)).T #(2,5001)\n",
        "\n",
        "print(H2.shape,W3.shape)"
      ],
      "execution_count": null,
      "outputs": [
        {
          "output_type": "stream",
          "text": [
            "(1503, 5001) (2, 5001)\n"
          ],
          "name": "stdout"
        }
      ]
    },
    {
      "cell_type": "code",
      "metadata": {
        "colab": {
          "base_uri": "https://localhost:8080/"
        },
        "id": "5jpZouGZxoEg",
        "outputId": "e6f80c18-e57e-47f6-c1a1-f982b473e469"
      },
      "source": [
        "y_pred = np.dot(H2,W3.T)\n",
        "preds = np.argmax(y_pred, axis = 1)\n",
        "print('overall training accuracy:', accuracy_score(y_train, preds))"
      ],
      "execution_count": null,
      "outputs": [
        {
          "output_type": "stream",
          "text": [
            "overall training accuracy: 0.9707252162341983\n"
          ],
          "name": "stdout"
        }
      ]
    },
    {
      "cell_type": "code",
      "metadata": {
        "colab": {
          "base_uri": "https://localhost:8080/"
        },
        "id": "vR-JIslSBUAH",
        "outputId": "7bd36f37-b26a-45d6-ce55-86e22190d137"
      },
      "source": [
        "#VALIDATION \n",
        "x_val = np.insert(x_val,0,np.ones(m_val),axis=1)\n",
        "H1_val = np.tanh(np.dot(W1,x_val.T)).T\n",
        "H1_val = np.insert(H1_val,0,np.ones(m_val),axis=1) \n",
        "H2_val = np.tanh(np.dot(W2,H1_val.T)).T #Lxm\n",
        "H2_val = np.insert(H2_val,0,np.ones(m_val),axis=1) \n",
        "y_pred_val = np.dot(W3,H2_val.T).T\n",
        "preds = np.argmax(y_pred_val, axis = 1)\n",
        "print('overall validation accuracy:', accuracy_score(y_val, preds))  "
      ],
      "execution_count": null,
      "outputs": [
        {
          "output_type": "stream",
          "text": [
            "overall validation accuracy: 0.827906976744186\n"
          ],
          "name": "stdout"
        }
      ]
    },
    {
      "cell_type": "code",
      "metadata": {
        "colab": {
          "base_uri": "https://localhost:8080/"
        },
        "id": "AGUEQTzEBjBY",
        "outputId": "d254f486-5431-4802-dae9-08d041d80f84"
      },
      "source": [
        "cm = confusion_matrix(y_val, preds)\n",
        "print(\"validation class 0 accuracy:\", cm[0,0]/(cm[0,0]+cm[0,1]))\n",
        "print(\"validation class 1 accuracy:\", cm[1,1]/(cm[1,1]+cm[1,0]))"
      ],
      "execution_count": null,
      "outputs": [
        {
          "output_type": "stream",
          "text": [
            "validation class 0 accuracy: 0.7830188679245284\n",
            "validation class 1 accuracy: 0.8715596330275229\n"
          ],
          "name": "stdout"
        }
      ]
    },
    {
      "cell_type": "code",
      "metadata": {
        "colab": {
          "base_uri": "https://localhost:8080/"
        },
        "id": "Z0fml2_8yIYL",
        "outputId": "165f615a-9d20-45f0-82f1-9d469151cfb8"
      },
      "source": [
        "#TESTING\n",
        "x_test = np.insert(x_test,0,np.ones(m_test),axis=1)\n",
        "H1_test = np.tanh(np.dot(W1,x_test.T)).T\n",
        "H1_test = np.insert(H1_test,0,np.ones(m_test),axis=1) \n",
        "H2_test = np.tanh(np.dot(W2,H1_test.T)).T #Lxm\n",
        "H2_test = np.insert(H2_test,0,np.ones(m_test),axis=1) \n",
        "y_pred_test = np.dot(W3,H2_test.T).T\n",
        "preds = np.argmax(y_pred_test, axis = 1)\n",
        "print('overall testing accuracy:', accuracy_score(y_test, preds))  "
      ],
      "execution_count": null,
      "outputs": [
        {
          "output_type": "stream",
          "text": [
            "overall testing accuracy: 0.8232558139534883\n"
          ],
          "name": "stdout"
        }
      ]
    },
    {
      "cell_type": "code",
      "metadata": {
        "colab": {
          "base_uri": "https://localhost:8080/"
        },
        "id": "fsdjAC-usQVZ",
        "outputId": "18189257-09a8-41d0-f6d9-1c9ac5ab8ae6"
      },
      "source": [
        "cm = confusion_matrix(y_test, preds)\n",
        "print(\"testing class 0 accuracy:\", cm[0,0]/(cm[0,0]+cm[0,1]))\n",
        "print(\"testing class 1 accuracy:\", cm[1,1]/(cm[1,1]+cm[1,0]))"
      ],
      "execution_count": null,
      "outputs": [
        {
          "output_type": "stream",
          "text": [
            "testing class 0 accuracy: 0.7924528301886793\n",
            "testing class 1 accuracy: 0.8532110091743119\n"
          ],
          "name": "stdout"
        }
      ]
    }
  ]
}