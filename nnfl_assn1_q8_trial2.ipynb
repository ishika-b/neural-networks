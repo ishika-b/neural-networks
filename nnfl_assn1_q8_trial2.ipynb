{
  "nbformat": 4,
  "nbformat_minor": 0,
  "metadata": {
    "colab": {
      "name": "nnfl_assn1_q8_trial2.ipynb",
      "provenance": [],
      "mount_file_id": "1Q4Xw1v9z0DS_tydWEILN37SFq_uawuGD",
      "authorship_tag": "ABX9TyMNK1x7qvVmjqafwsi+6D2S",
      "include_colab_link": true
    },
    "kernelspec": {
      "name": "python3",
      "display_name": "Python 3"
    }
  },
  "cells": [
    {
      "cell_type": "markdown",
      "metadata": {
        "id": "view-in-github",
        "colab_type": "text"
      },
      "source": [
        "<a href=\"https://colab.research.google.com/github/ishika-b/neural-networks/blob/main/nnfl_assn1_q8_trial2.ipynb\" target=\"_parent\"><img src=\"https://colab.research.google.com/assets/colab-badge.svg\" alt=\"Open In Colab\"/></a>"
      ]
    },
    {
      "cell_type": "code",
      "metadata": {
        "id": "9H8M672rkFVI"
      },
      "source": [
        "import numpy as np\n",
        "import pandas as pd\n",
        "import statistics\n",
        "import random\n",
        "from mpl_toolkits import mplot3d\n",
        "import matplotlib.pyplot as plt "
      ],
      "execution_count": null,
      "outputs": []
    },
    {
      "cell_type": "code",
      "metadata": {
        "id": "T6Io2tT8kBVl"
      },
      "source": [
        "def sigmoid(z):\n",
        "    return 1 / (1 + np.exp(-z))"
      ],
      "execution_count": null,
      "outputs": []
    },
    {
      "cell_type": "code",
      "metadata": {
        "id": "pwYM8xeVj5LY"
      },
      "source": [
        "def cost(h, y):\n",
        "    return (-y * np.log(h) - (1 - y) * np.log(1 - h)).mean()"
      ],
      "execution_count": null,
      "outputs": []
    },
    {
      "cell_type": "code",
      "metadata": {
        "id": "Fj7EeEY5j1NV"
      },
      "source": [
        "def gradient_descent(X, y,iter,lr):   \n",
        "    theta = np.zeros((8,3))\n",
        "    cost_descent = np.zeros((iter,4))\n",
        "        \n",
        "    for i in range(iter):\n",
        "      cost_descent[i][0]=i\n",
        "      for j in range(3):\n",
        "        z = np.dot(X, theta[:,j])\n",
        "        h = sigmoid(np.dot(X, theta[:,j]))\n",
        "        gradient = np.dot(X.T, (h - y[:,j])) / 90\n",
        "        theta[:,j] = theta[:,j] - lr * gradient      \n",
        "        h = sigmoid(np.dot(X,theta[:,j]))\n",
        "        loss = cost(h, y[:,j])\n",
        "        cost_descent[i][j+1] = loss\n",
        "\n",
        "    return cost_descent,theta"
      ],
      "execution_count": null,
      "outputs": []
    },
    {
      "cell_type": "code",
      "metadata": {
        "id": "W56fHVPRjr6D"
      },
      "source": [
        "def onevall(x_train,y_train,x_test,y_test):\n",
        "  costs,w = gradient_descent(x_train,y_train,iter=1000,lr=0.02)\n",
        "  predictions=[]\n",
        "  predicted_values = np.zeros(60)\n",
        "  for i in range(60):\n",
        "    for j in range(3):\n",
        "      predictions.append(sigmoid(np.dot(x_test[i],w[:,j])))\n",
        "    predicted_values[i] = predictions.index(max(predictions))+1\n",
        "    predictions = []\n",
        "  equal=0\n",
        "  total=np.zeros(3)\n",
        "\n",
        "  acc=[]\n",
        "  acc_ind=np.zeros(3)\n",
        "  for i in range(60):\n",
        "    if (predicted_values[i]==y_test[i]):\n",
        "      equal = equal+1\n",
        "    for j in range(3):\n",
        "      if ((predicted_values[i]==j+1) and (y_test[i]==j+1)):\n",
        "        acc_ind[j] = acc_ind[j]+1\n",
        "      if y_test[i]==j+1:\n",
        "        total[j]=total[j]+1\n",
        "\n",
        "  accuracy = equal/60\n",
        "  acc_ind=np.divide(acc_ind,total)\n",
        "  print('Overall accuracy =',accuracy)\n",
        "  print('Individual accuracies:')\n",
        "  print('Class 1:', acc_ind[0])\n",
        "  print('Class 2:', acc_ind[1])\n",
        "  print('Class 3:', acc_ind[2])"
      ],
      "execution_count": null,
      "outputs": []
    },
    {
      "cell_type": "code",
      "metadata": {
        "id": "gjrO9zHCjkG4"
      },
      "source": [
        "def onevone(x_train,y_train,x_test,y_test):\n",
        "  class_val=np.zeros(3)\n",
        "  y_train = np.zeros((90,3),dtype=int)\n",
        "  #1vs2\n",
        "  for i in range(90):\n",
        "    if y[i]==1:\n",
        "      y_train[i][0] = 1\n",
        "    elif y[i]==2:\n",
        "      y_train[i][1] = 1\n",
        "  costs12,w12 = gradient_descent(x_train,y_train,iter,lr)\n",
        "\n",
        "  y_train = np.zeros((90,3),dtype=int)\n",
        "  #2v3\n",
        "  for i in range(90):\n",
        "    if y[i]==2:\n",
        "      y_train[i][1] = 1\n",
        "    elif y[i]==3:\n",
        "      y_train[i][2] = 1\n",
        "  costs23,w23 = gradient_descent(x_train,y_train,iter,lr)\n",
        "  \n",
        "  y_train = np.zeros((90,3),dtype=int)\n",
        "  #1vs3\n",
        "  for i in range(90):\n",
        "    if y[i]==1:\n",
        "      y_train[i][0] = 1\n",
        "    elif y[i]==3:\n",
        "      y_train[i][2] = 1\n",
        "  costs13,w13 = gradient_descent(x_train,y_train,iter,lr)\n",
        "  predictions=np.zeros(60)\n",
        "\n",
        "  for i in range(60):\n",
        "    pred = sigmoid(np.dot(x_test[i],w12))\n",
        "    if pred[0]>pred[1]:\n",
        "      class_val[0] = class_val[0]+1\n",
        "    else:\n",
        "      class_val[1] = class_val[1]+1\n",
        "    pred = sigmoid(np.dot(x_test[i],w23))\n",
        "    if pred[1]>pred[2]:\n",
        "      class_val[1] = class_val[1]+1\n",
        "    else:\n",
        "      class_val[2] = class_val[2]+1\n",
        "    pred = sigmoid(np.dot(x_test[i],w13))\n",
        "    if pred[0]>pred[2]:\n",
        "      class_val[0] = class_val[0]+1\n",
        "    else:\n",
        "      class_val[2] = class_val[2]+1\n",
        "    predictions[i] = int(np.where(class_val==max(class_val))[0])+1\n",
        "    class_val = np.zeros(3)\n",
        "  equal=0\n",
        "  total=np.zeros(3)\n",
        "\n",
        "  acc=[]\n",
        "  acc_ind=np.zeros(3)\n",
        "  for i in range(60):\n",
        "    if (predictions[i]==y_test[i]):\n",
        "      equal = equal+1\n",
        "    for j in range(3):\n",
        "      if ((predictions[i]==j+1) and (y_test[i]==j+1)):\n",
        "        acc_ind[j] = acc_ind[j]+1\n",
        "      if y_test[i]==j+1:\n",
        "        total[j]=total[j]+1\n",
        "  \n",
        "  accuracy = equal/60\n",
        "  acc_ind=np.divide(acc_ind,total)\n",
        "  print('Overall accuracy =',accuracy)\n",
        "  print('Individual accuracies:')\n",
        "  print('Class 1:', acc_ind[0])\n",
        "  print('Class 2:', acc_ind[1])\n",
        "  print('Class 3:', acc_ind[2])"
      ],
      "execution_count": null,
      "outputs": []
    },
    {
      "cell_type": "code",
      "metadata": {
        "id": "7Dg3msKrjUho",
        "colab": {
          "base_uri": "https://localhost:8080/",
          "height": 248
        },
        "outputId": "2ebc4adc-7abc-4ff9-b3cf-d9bb1f896bd5"
      },
      "source": [
        "if __name__ == '__main__':\n",
        "  np.random.seed()\n",
        "  ex = pd.read_excel('/content/drive/My Drive/nnfl/nnfl/data4.xlsx', sheet_name='Sheet1',header=None)\n",
        "  ex1 = ex.sample(frac=1).reset_index(drop=True)\n",
        "  #print(ex1)\n",
        "  x = np.zeros((150,7))\n",
        "  y = np.zeros((150,1))\n",
        " \n",
        "  x = np.array(ex1)[:,:-1]\n",
        "  y = np.array(ex1)[:,7:]\n",
        "\n",
        "  for i in range(7):\n",
        "    mean = np.mean(x[:,i])\n",
        "    std = np.std(x[:,i])\n",
        "    x[:,i] = [(a-mean)/std for a in x[:,i]]\n",
        "\n",
        "  y_train = np.zeros((90,3),dtype=int)\n",
        "  x_train = x[0:90][:]\n",
        "  x_test = x[90:150][:]\n",
        "  #y_train = y[0:60][:]\n",
        "  y_test = y[90:150][:]\n",
        "  for i in range(90):\n",
        "    index = int(y[i]-1)\n",
        "    y_train[i][index] = 1\n",
        "  x_train = np.insert(x_train,0,np.ones(90),axis=1)\n",
        "  x_test = np.insert(x_test,0,np.ones(60),axis=1)\n",
        "  print('One vs All')\n",
        "  onevall(x_train,y_train,x_test,y_test)\n",
        "\n",
        "  y_train = np.zeros((90,3),dtype=int)\n",
        "  #onevsone\n",
        "  print('\\nOne vs One')\n",
        "  onevone(x_train,y_train,x_test,y_test)\n",
        "  "
      ],
      "execution_count": null,
      "outputs": [
        {
          "output_type": "stream",
          "text": [
            "One vs All\n",
            "Overall accuracy = 0.9333333333333333\n",
            "Individual accuracies:\n",
            "Class 1: 0.9473684210526315\n",
            "Class 2: 0.9444444444444444\n",
            "Class 3: 0.9130434782608695\n",
            "\n",
            "One vs One\n",
            "Overall accuracy = 0.9333333333333333\n",
            "Individual accuracies:\n",
            "Class 1: 0.9473684210526315\n",
            "Class 2: 1.0\n",
            "Class 3: 0.8695652173913043\n"
          ],
          "name": "stdout"
        }
      ]
    }
  ]
}