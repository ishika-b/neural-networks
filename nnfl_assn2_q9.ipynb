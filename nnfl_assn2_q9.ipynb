{
  "nbformat": 4,
  "nbformat_minor": 0,
  "metadata": {
    "colab": {
      "name": "nnfl_assn2_q9.ipynb",
      "provenance": [],
      "mount_file_id": "12JYCevKyH9WDZRW5zVpHu1QNOTmLnk_h",
      "authorship_tag": "ABX9TyOqLLsNVpjMyRVxcMKZqOv2",
      "include_colab_link": true
    },
    "kernelspec": {
      "name": "python3",
      "display_name": "Python 3"
    }
  },
  "cells": [
    {
      "cell_type": "markdown",
      "metadata": {
        "id": "view-in-github",
        "colab_type": "text"
      },
      "source": [
        "<a href=\"https://colab.research.google.com/github/ishika-b/neural-networks/blob/main/nnfl_assn2_q9.ipynb\" target=\"_parent\"><img src=\"https://colab.research.google.com/assets/colab-badge.svg\" alt=\"Open In Colab\"/></a>"
      ]
    },
    {
      "cell_type": "code",
      "metadata": {
        "id": "kp3MLRiXA6ja"
      },
      "source": [
        "!pip install tensorflow \n",
        "!pip install keras"
      ],
      "execution_count": null,
      "outputs": []
    },
    {
      "cell_type": "code",
      "metadata": {
        "id": "UWn4vWtfBrRy"
      },
      "source": [
        "from scipy.io import loadmat\n",
        "import numpy as np\n",
        "\n",
        "from sklearn import metrics\n",
        "from sklearn.metrics import classification_report\n",
        "from sklearn import preprocessing\n",
        "from sklearn.model_selection import train_test_split\n",
        "\n",
        "import keras\n",
        "from keras import models\n",
        "from keras import layers\n",
        "from keras.models import Sequential\n",
        "from keras.layers import Dense, Dropout, Flatten, Reshape\n",
        "from keras.layers import Conv2D, MaxPooling2D\n",
        "from keras.utils import np_utils"
      ],
      "execution_count": null,
      "outputs": []
    },
    {
      "cell_type": "code",
      "metadata": {
        "id": "Qn9mRC_LC_2-"
      },
      "source": [
        "input = loadmat('/content/drive/MyDrive/nnfl/nnfl2/input.mat')\n",
        "labels = loadmat('/content/drive/MyDrive/nnfl/nnfl2/class_label.mat')\n",
        "data = input['x']\n",
        "y = labels['y']\n",
        "\n",
        "x = []\n",
        "for i in range(17160):\n",
        "  x.append(data[0][i].T) #(17160, 800, 12)"
      ],
      "execution_count": null,
      "outputs": []
    },
    {
      "cell_type": "code",
      "metadata": {
        "colab": {
          "base_uri": "https://localhost:8080/"
        },
        "id": "s_1fJ0lM-m1u",
        "outputId": "16b2b99e-476f-4ceb-b39a-cd93bfb5b146"
      },
      "source": [
        "print(np.array(x).shape)\n",
        "print(np.array(y).shape)"
      ],
      "execution_count": null,
      "outputs": [
        {
          "output_type": "stream",
          "text": [
            "(17160, 800, 12)\n",
            "(17160, 1)\n"
          ],
          "name": "stdout"
        }
      ]
    },
    {
      "cell_type": "code",
      "metadata": {
        "id": "hLgSL773yZxZ"
      },
      "source": [
        "x_train, x_test, y_train, y_test = train_test_split(x, y, test_size=0.2, random_state=1)\n",
        "x_train, x_val, y_train, y_val = train_test_split(x_train, y_train, test_size=1/8, random_state=1)\n",
        "\n",
        "y_tr_one_hot  = np.zeros((np.array(y_train).shape[0],7))\n",
        "\n",
        "for i in range(np.array(y_train).shape[0]):\n",
        "  label = y_train[i][0]-1\n",
        "  y_tr_one_hot[i][int(label)] = 1\n"
      ],
      "execution_count": null,
      "outputs": []
    },
    {
      "cell_type": "code",
      "metadata": {
        "colab": {
          "base_uri": "https://localhost:8080/"
        },
        "id": "5c2-Vpdq1GHK",
        "outputId": "726cb82c-ac75-4115-873d-028d89003e29"
      },
      "source": [
        "model = models.Sequential()\n",
        "model.add(layers.Conv1D(filters = 20, kernel_size= 7, input_shape=(np.array(x_train).shape[1], np.array(x_train).shape[2]) , activation='relu'))\n",
        "model.add(layers.MaxPooling1D(pool_size=3, strides = 3))\n",
        "model.add(layers.Conv1D(filters = 60, kernel_size = 7, activation='relu'))\n",
        "model.add(layers.MaxPooling1D(pool_size=3, strides = 3))\n",
        "model.add(layers.Dropout(0.7))\n",
        "model.add(layers.Conv1D(filters = 120, kernel_size= 7))\n",
        "model.add(layers.Conv1D(filters = 120, kernel_size= 7))\n",
        "model.add(layers.Flatten())\n",
        "model.add(layers.Dense(2000, activation = 'relu'))\n",
        "model.add(layers.Dense(700, activation = 'relu'))\n",
        "model.add(layers.Dense(50, activation = 'relu'))\n",
        "model.add(layers.Dense(7, activation = 'sigmoid'))\n",
        "\n",
        "print(model.summary())"
      ],
      "execution_count": null,
      "outputs": [
        {
          "output_type": "stream",
          "text": [
            "Model: \"sequential\"\n",
            "_________________________________________________________________\n",
            "Layer (type)                 Output Shape              Param #   \n",
            "=================================================================\n",
            "conv1d (Conv1D)              (None, 794, 20)           1700      \n",
            "_________________________________________________________________\n",
            "max_pooling1d (MaxPooling1D) (None, 264, 20)           0         \n",
            "_________________________________________________________________\n",
            "conv1d_1 (Conv1D)            (None, 258, 60)           8460      \n",
            "_________________________________________________________________\n",
            "max_pooling1d_1 (MaxPooling1 (None, 86, 60)            0         \n",
            "_________________________________________________________________\n",
            "dropout (Dropout)            (None, 86, 60)            0         \n",
            "_________________________________________________________________\n",
            "conv1d_2 (Conv1D)            (None, 80, 120)           50520     \n",
            "_________________________________________________________________\n",
            "conv1d_3 (Conv1D)            (None, 74, 120)           100920    \n",
            "_________________________________________________________________\n",
            "flatten (Flatten)            (None, 8880)              0         \n",
            "_________________________________________________________________\n",
            "dense (Dense)                (None, 2000)              17762000  \n",
            "_________________________________________________________________\n",
            "dense_1 (Dense)              (None, 700)               1400700   \n",
            "_________________________________________________________________\n",
            "dense_2 (Dense)              (None, 50)                35050     \n",
            "_________________________________________________________________\n",
            "dense_3 (Dense)              (None, 7)                 357       \n",
            "=================================================================\n",
            "Total params: 19,359,707\n",
            "Trainable params: 19,359,707\n",
            "Non-trainable params: 0\n",
            "_________________________________________________________________\n",
            "None\n"
          ],
          "name": "stdout"
        }
      ]
    },
    {
      "cell_type": "code",
      "metadata": {
        "id": "oengZg7O6nxS"
      },
      "source": [
        "model.compile(loss='categorical_crossentropy', optimizer='rmsprop', metrics=['accuracy'])"
      ],
      "execution_count": null,
      "outputs": []
    },
    {
      "cell_type": "code",
      "metadata": {
        "id": "2Wq7GTYD_NFg"
      },
      "source": [
        "y_te_one_hot  = np.zeros((np.array(y_test).shape[0],7))\n",
        "\n",
        "for i in range(np.array(y_test).shape[0]):\n",
        "  label = y_test[i][0]-1\n",
        "  y_te_one_hot[i][label] = 1"
      ],
      "execution_count": null,
      "outputs": []
    },
    {
      "cell_type": "code",
      "metadata": {
        "colab": {
          "base_uri": "https://localhost:8080/"
        },
        "id": "XpT-vThwCH2Q",
        "outputId": "d521e7a5-3893-47c7-b2b2-b7dd4e986dfb"
      },
      "source": [
        "y_val_one_hot  = np.zeros((np.array(y_val).shape[0],7))\n",
        "\n",
        "for i in range(np.array(y_val).shape[0]):\n",
        "  label = y_val[i][0]-1\n",
        "  y_val_one_hot[i][label] = 1\n",
        "\n",
        "history_val = model.fit(np.array(x_train), y_tr_one_hot, validation_data=(np.array(x_val), y_val_one_hot), epochs=10, batch_size=1024)"
      ],
      "execution_count": null,
      "outputs": [
        {
          "output_type": "stream",
          "text": [
            "Epoch 1/10\n",
            "12/12 [==============================] - 54s 5s/step - loss: 0.0124 - accuracy: 0.9944 - val_loss: 3.8417e-04 - val_accuracy: 1.0000\n",
            "Epoch 2/10\n",
            "12/12 [==============================] - 54s 4s/step - loss: 0.4025 - accuracy: 0.9313 - val_loss: 0.4530 - val_accuracy: 0.8566\n",
            "Epoch 3/10\n",
            "12/12 [==============================] - 53s 4s/step - loss: 0.0975 - accuracy: 0.9774 - val_loss: 0.0010 - val_accuracy: 1.0000\n",
            "Epoch 4/10\n",
            "12/12 [==============================] - 54s 5s/step - loss: 0.0016 - accuracy: 1.0000 - val_loss: 1.6108e-04 - val_accuracy: 1.0000\n",
            "Epoch 5/10\n",
            "12/12 [==============================] - 54s 5s/step - loss: 0.1085 - accuracy: 0.9819 - val_loss: 1.0254 - val_accuracy: 0.7372\n",
            "Epoch 6/10\n",
            "12/12 [==============================] - 54s 4s/step - loss: 0.2077 - accuracy: 0.9490 - val_loss: 0.0010 - val_accuracy: 1.0000\n",
            "Epoch 7/10\n",
            "12/12 [==============================] - 54s 5s/step - loss: 0.0018 - accuracy: 0.9998 - val_loss: 1.4067e-04 - val_accuracy: 1.0000\n",
            "Epoch 8/10\n",
            "12/12 [==============================] - 55s 5s/step - loss: 4.8118e-04 - accuracy: 1.0000 - val_loss: 3.2684e-05 - val_accuracy: 1.0000\n",
            "Epoch 9/10\n",
            "12/12 [==============================] - 54s 5s/step - loss: 0.2224 - accuracy: 0.9565 - val_loss: 0.0012 - val_accuracy: 1.0000\n",
            "Epoch 10/10\n",
            "12/12 [==============================] - 55s 5s/step - loss: 0.0017 - accuracy: 1.0000 - val_loss: 1.1931e-04 - val_accuracy: 1.0000\n"
          ],
          "name": "stdout"
        }
      ]
    },
    {
      "cell_type": "code",
      "metadata": {
        "colab": {
          "base_uri": "https://localhost:8080/"
        },
        "id": "e1NVEaQ4D2om",
        "outputId": "0ef2d41a-f7ab-492c-811f-940ebd512a0d"
      },
      "source": [
        "test_loss, test_acc = model.evaluate(np.array(x_test), np.array(y_te_one_hot), verbose=0)\n",
        "print('overall testing accuracy:',test_acc)"
      ],
      "execution_count": null,
      "outputs": [
        {
          "output_type": "stream",
          "text": [
            "overall testing accuracy: 1.0\n"
          ],
          "name": "stdout"
        }
      ]
    },
    {
      "cell_type": "code",
      "metadata": {
        "colab": {
          "base_uri": "https://localhost:8080/"
        },
        "id": "4g3FaLRaMZtZ",
        "outputId": "fd558203-dc8e-49eb-dcdf-8591c4f4fc1c"
      },
      "source": [
        "from sklearn.metrics import confusion_matrix\n",
        "y_pred = np.argmax(model.predict(np.array(x_test)), axis = -1) + 1\n",
        "#print(y_pred)\n",
        "cm = confusion_matrix(y_test, y_pred)\n",
        "print(cm)"
      ],
      "execution_count": null,
      "outputs": [
        {
          "output_type": "stream",
          "text": [
            "[[571   0   0   0   0   0   0]\n",
            " [  0 402   0   0   0   0   0]\n",
            " [  0   0 524   0   0   0   0]\n",
            " [  0   0   0 344   0   0   0]\n",
            " [  0   0   0   0 596   0   0]\n",
            " [  0   0   0   0   0 625   0]\n",
            " [  0   0   0   0   0   0 370]]\n"
          ],
          "name": "stdout"
        }
      ]
    },
    {
      "cell_type": "code",
      "metadata": {
        "colab": {
          "base_uri": "https://localhost:8080/"
        },
        "id": "evg5IerUbBxs",
        "outputId": "ab0f9374-2906-4f89-b24e-5ebb5f8b8f40"
      },
      "source": [
        "for i in range (7):\n",
        "  print(\"accuracy of class \",i+1,\":\", cm[i,i]/np.sum(cm[i]))"
      ],
      "execution_count": null,
      "outputs": [
        {
          "output_type": "stream",
          "text": [
            "accuracy of class  1 : 1.0\n",
            "accuracy of class  2 : 1.0\n",
            "accuracy of class  3 : 1.0\n",
            "accuracy of class  4 : 1.0\n",
            "accuracy of class  5 : 1.0\n",
            "accuracy of class  6 : 1.0\n",
            "accuracy of class  7 : 1.0\n"
          ],
          "name": "stdout"
        }
      ]
    }
  ]
}