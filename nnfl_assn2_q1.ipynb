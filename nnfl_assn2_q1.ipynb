{
  "nbformat": 4,
  "nbformat_minor": 0,
  "metadata": {
    "colab": {
      "name": "nnfl_assn2_q1.ipynb",
      "provenance": [],
      "mount_file_id": "18vfDw7CnwoqoON7k-9saJyyAWLkUuVrc",
      "authorship_tag": "ABX9TyPr2pGLnlmhlfOXHCpmlV5o",
      "include_colab_link": true
    },
    "kernelspec": {
      "name": "python3",
      "display_name": "Python 3"
    }
  },
  "cells": [
    {
      "cell_type": "markdown",
      "metadata": {
        "id": "view-in-github",
        "colab_type": "text"
      },
      "source": [
        "<a href=\"https://colab.research.google.com/github/ishika-b/neural-networks/blob/main/nnfl_assn2_q1.ipynb\" target=\"_parent\"><img src=\"https://colab.research.google.com/assets/colab-badge.svg\" alt=\"Open In Colab\"/></a>"
      ]
    },
    {
      "cell_type": "code",
      "metadata": {
        "id": "WuCG1tOpaJUK"
      },
      "source": [
        "import numpy as np\n",
        "import pandas as pd\n",
        "import matplotlib.pyplot as plt\n",
        "from mpl_toolkits import mplot3d"
      ],
      "execution_count": null,
      "outputs": []
    },
    {
      "cell_type": "code",
      "metadata": {
        "id": "2zz6TYqR9l8U"
      },
      "source": [
        "def hypothesis(x,w):\n",
        "  z = np.dot(x, w.T)\n",
        "  return 1 / (1 + np.exp(-z))"
      ],
      "execution_count": null,
      "outputs": []
    },
    {
      "cell_type": "code",
      "metadata": {
        "id": "-ReHgH8YvKmK"
      },
      "source": [
        "def cost(h, y):\n",
        "    return (-y * np.log(h) - (1 - y) * np.log(1 - h)).mean()"
      ],
      "execution_count": null,
      "outputs": []
    },
    {
      "cell_type": "code",
      "metadata": {
        "id": "HQPfaXnR6H74"
      },
      "source": [
        "def train(x,y):\n",
        "  # x is 70x4 for train\n",
        "  # y is 70x1 for train\n",
        "\n",
        "  #variables\n",
        "  iter = 100\n",
        "  lr = 0.05\n",
        "\n",
        "  #weights and bias initialisation \n",
        "  w = np.zeros((1,4))\n",
        "  b = 0\n",
        "\n",
        "  costs = []\n",
        "\n",
        "  for i in range(iter):\n",
        "    h = hypothesis(x,w)  # a 70x1 array for train\n",
        "    db = (h-y)*(h)*(np.ones((x.shape[0],1))-h)\n",
        "    w = w - lr * np.sum(db*x, axis = 0) \n",
        "    b = b - lr * np.sum(db)\n",
        "\n",
        "    loss = cost(h,y)\n",
        "    costs.append(loss)\n",
        "    \n",
        "  return w,b,costs\n",
        "     "
      ],
      "execution_count": null,
      "outputs": []
    },
    {
      "cell_type": "code",
      "metadata": {
        "id": "W0mW1RofdW0z",
        "colab": {
          "base_uri": "https://localhost:8080/",
          "height": 372
        },
        "outputId": "b2daf50f-2eaa-46e9-a229-ce2e156dc511"
      },
      "source": [
        "if __name__ == '__main__':\n",
        "  data = pd.read_excel('/content/drive/My Drive/nnfl/nnfl2/data55.xlsx', sheet_name='Sheet1',header=None)\n",
        "  data_shuffled = data.sample(frac=1).reset_index(drop=True)\n",
        "  \n",
        "  x = np.zeros((100,4))\n",
        "  y = np.zeros((100,1))\n",
        "\n",
        "  for i in range(100):\n",
        "   x[i][0] = data_shuffled[0][i]\n",
        "   x[i][1] = data_shuffled[1][i]\n",
        "   x[i][2] = data_shuffled[2][i]\n",
        "   x[i][3] = data_shuffled[3][i]\n",
        "\n",
        "   y[i][0] = data_shuffled[4][i]\n",
        "  \n",
        "  for i in range(4):\n",
        "    mean = np.mean(x[:,i]) \n",
        "    std = np.std(x[:,i])\n",
        "    x[:,i] = [(a-mean)/std for a in x[:,i]]\n",
        "\n",
        "\n",
        " # train test and validation split  \n",
        "  x_train = x[0:70][:]\n",
        "  x_val =  x[70:80][:]\n",
        "  x_test = x[80:100][:]\n",
        "  y_train = y[0:70][:]\n",
        "  y_val =  y[70:80][:]\n",
        "  y_test = y[80:100][:]  \n",
        "\n",
        "  w_train, b_train, costs_tr = train(x_train,y_train)\n",
        "  w_val, b_val, costs_val = train(x_val,y_val)\n",
        "\n",
        "  fig = plt.figure()\n",
        "  plt.xlabel('Number of Iterations', fontsize=14)\n",
        "  plt.plot(range(0,100),costs_val, label = 'Validation Set Cost')\n",
        "  plt.plot(range(0,100),costs_tr, label = 'Training Set Cost')\n",
        "  plt.legend()\n",
        "\n",
        "\n",
        "  print(\"final validation cost is:\",cost(hypothesis(x_val,w_train),y_val))\n",
        "  print(\"final test cost is:\",cost(hypothesis(x_test,w_train),y_test))\n",
        "   \n",
        "  predictions = hypothesis(x_test, w_train).round()\n",
        "  #print(predictions)\n",
        "  \n",
        "  correct_arr = [1 if (a == b ) else 0 for (a, b) in zip(predictions, y_test)] \n",
        "  sensitivity_arr = []\n",
        "  specificity_arr = []\n",
        "  \n",
        "  for i in range(y_test.shape[0]):\n",
        "    if (predictions[i] == 1 and y_test[i]==1):\n",
        "      sensitivity_arr.append(1)\n",
        "    elif (predictions[i]==0 and y_test[i]==1):\n",
        "      sensitivity_arr.append(0)\n",
        "    if (predictions[i] == 0 and y_test[i]== 0):\n",
        "      specificity_arr.append(1)\n",
        "    elif (predictions[i]==1 and y_test[i]== 0):\n",
        "      specificity_arr.append(0)\n",
        "    \n",
        "  acc = sum(correct_arr)/len(correct_arr) \n",
        "  sens = sum(sensitivity_arr)/len(sensitivity_arr)\n",
        "  spec = sum(specificity_arr)/len(specificity_arr)\n",
        "\n",
        "  print(\"accuracy:\",acc)\n",
        "  print(\"sensitivity:\",sens)\n",
        "  print(\"specificity:\",spec)"
      ],
      "execution_count": null,
      "outputs": [
        {
          "output_type": "stream",
          "text": [
            "final validation cost is: 0.019866199725138322\n",
            "final test cost is: 0.01990880544359583\n",
            "accuracy: 1.0\n",
            "sensitivity: 1.0\n",
            "specificity: 1.0\n"
          ],
          "name": "stdout"
        },
        {
          "output_type": "display_data",
          "data": {
            "image/png": "[encoded data removed]",
            "text/plain": [
              "<Figure size 432x288 with 1 Axes>"
            ]
          },
          "metadata": {
            "tags": [],
            "needs_background": "light"
          }
        }
      ]
    }
  ]
}